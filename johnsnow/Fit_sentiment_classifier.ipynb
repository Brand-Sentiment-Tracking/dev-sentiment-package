{
  "cells": [
    {
      "cell_type": "markdown",
      "metadata": {
        "id": "view-in-github",
        "colab_type": "text"
      },
      "source": [
        "<a href=\"https://colab.research.google.com/github/Brand-Sentiment-Tracking/dev-sentiment-package/blob/main/johnsnow/Fit_sentiment_classifier.ipynb\" target=\"_parent\"><img src=\"https://colab.research.google.com/assets/colab-badge.svg\" alt=\"Open In Colab\"/></a>"
      ]
    },
    {
      "cell_type": "markdown",
      "metadata": {
        "id": "ph3bDypIEXdd"
      },
      "source": [
        "![JohnSnowLabs](https://nlp.johnsnowlabs.com/assets/images/logo.png)"
      ]
    },
    {
      "cell_type": "markdown",
      "metadata": {
        "id": "aaVmDt1TEXdh"
      },
      "source": [
        "# Spark NLP\n",
        "### Multi-class Sentiment Classification\n",
        "#### By using SentimentDL"
      ]
    },
    {
      "cell_type": "markdown",
      "metadata": {
        "id": "jmo3o-b3MF5W"
      },
      "source": [
        "[![Open In Colab](https://colab.research.google.com/assets/colab-badge.svg)](https://colab.research.google.com/github/JohnSnowLabs/spark-nlp-workshop/blob/master/jupyter/training/english/classification/SentimentDL_train_multiclass_sentiment_classifier.ipynb)"
      ]
    },
    {
      "cell_type": "markdown",
      "metadata": {
        "id": "h4fQwZ46x4fu"
      },
      "source": [
        "Only run this block if you are inside Google Colab otherwise skip it"
      ]
    },
    {
      "cell_type": "code",
      "execution_count": 1,
      "metadata": {
        "colab": {
          "base_uri": "https://localhost:8080/"
        },
        "id": "MzishpT-MF5X",
        "outputId": "963bacce-022c-491d-bc84-d471f899fda4"
      },
      "outputs": [
        {
          "output_type": "stream",
          "name": "stdout",
          "text": [
            "--2022-04-22 11:27:28--  http://setup.johnsnowlabs.com/colab.sh\n",
            "Resolving setup.johnsnowlabs.com (setup.johnsnowlabs.com)... 51.158.130.125\n",
            "Connecting to setup.johnsnowlabs.com (setup.johnsnowlabs.com)|51.158.130.125|:80... connected.\n",
            "HTTP request sent, awaiting response... 302 Found\n",
            "Location: https://setup.johnsnowlabs.com/colab.sh [following]\n",
            "--2022-04-22 11:27:29--  https://setup.johnsnowlabs.com/colab.sh\n",
            "Connecting to setup.johnsnowlabs.com (setup.johnsnowlabs.com)|51.158.130.125|:443... connected.\n",
            "HTTP request sent, awaiting response... 302 Moved Temporarily\n",
            "Location: https://raw.githubusercontent.com/JohnSnowLabs/spark-nlp/master/scripts/colab_setup.sh [following]\n",
            "--2022-04-22 11:27:29--  https://raw.githubusercontent.com/JohnSnowLabs/spark-nlp/master/scripts/colab_setup.sh\n",
            "Resolving raw.githubusercontent.com (raw.githubusercontent.com)... 185.199.109.133, 185.199.108.133, 185.199.110.133, ...\n",
            "Connecting to raw.githubusercontent.com (raw.githubusercontent.com)|185.199.109.133|:443... connected.\n",
            "HTTP request sent, awaiting response... 200 OK\n",
            "Length: 1453 (1.4K) [text/plain]\n",
            "Saving to: ‘STDOUT’\n",
            "\n",
            "-                     0%[                    ]       0  --.-KB/s               setup Colab for PySpark 3.0.3 and Spark NLP 3.4.3\n",
            "Installing PySpark 3.0.3 and Spark NLP 3.4.3\n",
            "-                   100%[===================>]   1.42K  --.-KB/s    in 0.001s  \n",
            "\n",
            "2022-04-22 11:27:29 (1.72 MB/s) - written to stdout [1453/1453]\n",
            "\n",
            "\u001b[K     |████████████████████████████████| 209.1 MB 56 kB/s \n",
            "\u001b[K     |████████████████████████████████| 144 kB 38.3 MB/s \n",
            "\u001b[K     |████████████████████████████████| 198 kB 68.1 MB/s \n",
            "\u001b[?25h  Building wheel for pyspark (setup.py) ... \u001b[?25l\u001b[?25hdone\n"
          ]
        }
      ],
      "source": [
        "# This is only to setup PySpark and Spark NLP on Colab\n",
        "!wget http://setup.johnsnowlabs.com/colab.sh -O - | bash"
      ]
    },
    {
      "cell_type": "code",
      "execution_count": 2,
      "metadata": {
        "colab": {
          "base_uri": "https://localhost:8080/"
        },
        "id": "Hmvv5Q4jMF5b",
        "outputId": "348f433c-9305-4e1f-f1eb-b2a3055c1c7c"
      },
      "outputs": [
        {
          "output_type": "stream",
          "name": "stdout",
          "text": [
            "Spark NLP version:  3.4.3\n",
            "Apache Spark version 3.0.3\n"
          ]
        }
      ],
      "source": [
        "import sparknlp\n",
        "\n",
        "spark = sparknlp.start()\n",
        "\n",
        "print(\"Spark NLP version: \", sparknlp.version())\n",
        "print(\"Apache Spark version\", spark.version)\n"
      ]
    },
    {
      "cell_type": "markdown",
      "source": [
        "### Load political dataset"
      ],
      "metadata": {
        "id": "YFP74juaxxZN"
      }
    },
    {
      "cell_type": "code",
      "source": [
        "# Convert Kaggle data to Pandas dataframe and preprocess\n",
        "import pandas as pd\n",
        "from pyspark.sql.functions import rand \n",
        "\n",
        "sentiment_url_1 = 'https://raw.githubusercontent.com/Brand-Sentiment-Tracking/python-package/main/data/sentiment_test_data.csv' # Financial Phrase Bank\n",
        "sentiment_url_2 = 'https://raw.githubusercontent.com/Brand-Sentiment-Tracking/python-package/main/data/SEN_en_R.csv' # SEN data\n",
        "\n",
        "# Create a preprocessed spark dataframe\n",
        "from pyspark import SparkFiles\n",
        "spark.sparkContext.addFile(sentiment_url_2)\n",
        "\n",
        "# # Read financial dataframe\n",
        "# df_spark = spark.read.option(\"header\",\"false\").csv(\"file://\"+SparkFiles.get(\"sentiment_test_data.csv\"))\n",
        "# df_spark = df_spark.withColumnRenamed(\"_c0\", \"label\").withColumnRenamed(\"_c1\", \"text\")\n",
        "# # Shuffle dataset\n",
        "# df_spark = df_spark.orderBy(rand(2))\n",
        "\n",
        "# Read political dataframe\n",
        "df_spark = spark.read.option(\"header\",\"true\").csv(\"file://\"+SparkFiles.get(\"SEN_en_R.csv\"))\n",
        "df_spark = df_spark.withColumnRenamed(\"_c0\", \"idx\").withColumnRenamed(\"headline\", \"text\") \\\n",
        "                                                 .withColumnRenamed(\"majority_label\", 'label')\n",
        "\n",
        "\n",
        "\n",
        "\n",
        "# Replace abbreviations with full lables and filter the unk datapoints (applies only to political dataset)                                         \n",
        "df_spark = df_spark.replace(\"neutr\", \"neutral\").replace(\"pos\", \"positive\").replace(\"neg\",\"negative\")\n",
        "# print(df_spark.count())\n",
        "df_spark = df_spark[df_spark.label != \"unk\"]\n",
        "# print(df_spark.count())\n",
        "\n",
        "# Split into train and test\n",
        "df_spark_train = df_spark.limit(round(df_spark.count()*0.8))\n",
        "df_spark_test = df_spark.subtract(df_spark_train)\n",
        "\n",
        "df_spark_train.show()"
      ],
      "metadata": {
        "colab": {
          "base_uri": "https://localhost:8080/"
        },
        "id": "bvV3IUsgx0Ys",
        "outputId": "0cb44e33-74b5-4ec7-d95e-03bd311a0b0e"
      },
      "execution_count": 60,
      "outputs": [
        {
          "output_type": "stream",
          "name": "stdout",
          "text": [
            "+---+--------------------+------+--------+\n",
            "|idx|                text|entity|   label|\n",
            "+---+--------------------+------+--------+\n",
            "|  0|Boris Johnson Joi...| Trump| neutral|\n",
            "|  1|Trump Praises Con...| Trump|negative|\n",
            "|  2|Stung by Trump’s ...| Trump| neutral|\n",
            "|  3|What ‘America Fir...| Trump| neutral|\n",
            "|  4|Trump Calls for N...| Trump|positive|\n",
            "|  5|Trump Set to Meet...| Trump| neutral|\n",
            "|  6|Trump Clashes Wit...| Trump| neutral|\n",
            "|  7|Donald Trump Won’...| Trump|positive|\n",
            "|  8|Trump to Attend N...| Trump| neutral|\n",
            "|  9|Trump-Erdogan Rap...| Trump| neutral|\n",
            "| 10|Trump Says Erdoga...| Trump| neutral|\n",
            "| 11|Ukrainian Preside...| Trump| neutral|\n",
            "| 12|In Months Before ...| Trump|negative|\n",
            "| 13|Ukraine to Review...| Biden| neutral|\n",
            "| 14|For Trump, Long O...| Trump| neutral|\n",
            "| 15|Taliban Negotiato...| Trump|negative|\n",
            "| 16|Trump Administrat...| Trump|negative|\n",
            "| 17|U.S. Sanctions Ti...| Putin| neutral|\n",
            "| 18|New York State Su...| Trump| neutral|\n",
            "| 19|Trump’s NASA Budg...| Trump|positive|\n",
            "+---+--------------------+------+--------+\n",
            "only showing top 20 rows\n",
            "\n"
          ]
        }
      ]
    },
    {
      "cell_type": "markdown",
      "metadata": {
        "id": "zWFUDI6jMF5k"
      },
      "source": [
        "The content is inside `text` column and the sentiment is inside `label` column"
      ]
    },
    {
      "cell_type": "code",
      "execution_count": 61,
      "metadata": {
        "colab": {
          "base_uri": "https://localhost:8080/"
        },
        "id": "nURzgFJ7MF5o",
        "outputId": "56855984-a83a-489d-e9ff-8f69f9fae1ff"
      },
      "outputs": [
        {
          "output_type": "stream",
          "name": "stdout",
          "text": [
            "+---+--------------------+------+--------+\n",
            "|idx|                text|entity|   label|\n",
            "+---+--------------------+------+--------+\n",
            "|  0|Boris Johnson Joi...| Trump| neutral|\n",
            "|  1|Trump Praises Con...| Trump|negative|\n",
            "|  2|Stung by Trump’s ...| Trump| neutral|\n",
            "|  3|What ‘America Fir...| Trump| neutral|\n",
            "|  4|Trump Calls for N...| Trump|positive|\n",
            "|  5|Trump Set to Meet...| Trump| neutral|\n",
            "|  6|Trump Clashes Wit...| Trump| neutral|\n",
            "|  7|Donald Trump Won’...| Trump|positive|\n",
            "|  8|Trump to Attend N...| Trump| neutral|\n",
            "|  9|Trump-Erdogan Rap...| Trump| neutral|\n",
            "| 10|Trump Says Erdoga...| Trump| neutral|\n",
            "| 11|Ukrainian Preside...| Trump| neutral|\n",
            "| 12|In Months Before ...| Trump|negative|\n",
            "| 13|Ukraine to Review...| Biden| neutral|\n",
            "| 14|For Trump, Long O...| Trump| neutral|\n",
            "| 15|Taliban Negotiato...| Trump|negative|\n",
            "| 16|Trump Administrat...| Trump|negative|\n",
            "| 17|U.S. Sanctions Ti...| Putin| neutral|\n",
            "| 18|New York State Su...| Trump| neutral|\n",
            "| 19|Trump’s NASA Budg...| Trump|positive|\n",
            "+---+--------------------+------+--------+\n",
            "only showing top 20 rows\n",
            "\n"
          ]
        }
      ],
      "source": [
        "trainDataset = df_spark_train\n",
        "trainDataset.show()"
      ]
    },
    {
      "cell_type": "code",
      "execution_count": 62,
      "metadata": {
        "colab": {
          "base_uri": "https://localhost:8080/"
        },
        "id": "5NIHJuVKx4gk",
        "outputId": "0a014262-481d-4d01-fcb1-a5659b7c25b9"
      },
      "outputs": [
        {
          "output_type": "execute_result",
          "data": {
            "text/plain": [
              "990"
            ]
          },
          "metadata": {},
          "execution_count": 62
        }
      ],
      "source": [
        "trainDataset.count()"
      ]
    },
    {
      "cell_type": "code",
      "execution_count": 45,
      "metadata": {
        "id": "0oKvNZaEMF5q"
      },
      "outputs": [],
      "source": [
        "from pyspark.ml import Pipeline\n",
        "\n",
        "from sparknlp.annotator import *\n",
        "from sparknlp.common import *\n",
        "from sparknlp.base import *"
      ]
    },
    {
      "cell_type": "code",
      "execution_count": 116,
      "metadata": {
        "colab": {
          "base_uri": "https://localhost:8080/"
        },
        "id": "H30A4FgNMF5t",
        "outputId": "6965b703-9e67-4bd6-920e-b1cda2bf9018"
      },
      "outputs": [
        {
          "output_type": "stream",
          "name": "stdout",
          "text": [
            "tfhub_use download started this may take some time.\n",
            "Approximate size to download 923.7 MB\n",
            "[OK!]\n"
          ]
        }
      ],
      "source": [
        "# actual content is inside description column\n",
        "document = DocumentAssembler()\\\n",
        "    .setInputCol(\"text\")\\\n",
        "    .setOutputCol(\"document\")\n",
        "\n",
        "use = UniversalSentenceEncoder.pretrained() \\\n",
        " .setInputCols([\"document\"])\\\n",
        " .setOutputCol(\"sentence_embeddings\")\n",
        "\n",
        "\n",
        "classsifierdl = ClassifierDLApproach()\\\n",
        "  .setInputCols([\"sentence_embeddings\"])\\\n",
        "  .setOutputCol(\"class\")\\\n",
        "  .setLabelColumn(\"label\")\\\n",
        "  .setMaxEpochs(10)\\\n",
        "  .setEnableOutputLogs(True)\n",
        "\n",
        "pipeline = Pipeline(\n",
        "    stages = [\n",
        "        document,\n",
        "        use,\n",
        "        classsifierdl\n",
        "    ])"
      ]
    },
    {
      "cell_type": "code",
      "execution_count": 117,
      "metadata": {
        "id": "kia7NpRJMF5v"
      },
      "outputs": [],
      "source": [
        "# Fit to the training dataset (train the model)\n",
        "pipelineModel = pipeline.fit(trainDataset)"
      ]
    },
    {
      "cell_type": "markdown",
      "metadata": {
        "id": "zMLuwQSCB05e"
      },
      "source": [
        "# How to use already trained SentimentDL pipeline or its model\n",
        "\n",
        "We have two ways of using what we already trained: pipeline or model.\n",
        "\n",
        "Let's see how we can save the entire pipeline, load it, and do some prediction with that pre-trained pipeline."
      ]
    },
    {
      "cell_type": "markdown",
      "metadata": {
        "id": "4I7COUCPCPe3"
      },
      "source": [
        "## Save and load pre-trained SentimentDL pipeline"
      ]
    },
    {
      "cell_type": "code",
      "execution_count": 118,
      "metadata": {
        "id": "QTDQ3riLD-zW"
      },
      "outputs": [],
      "source": [
        "# Google Colab is free so it comes with a little memory. \n",
        "# It's not possible to save and load in this notebook. But you can do this locally or in a decent machine!\n",
        "\n",
        "# pipelineModel.save(\"./sentimentdl_pipeline\")\n",
        "# loadedPipeline = PipelineModel.load(\"./sentimentdl_pipeline\")\n",
        "# loadedPipeline.transform(YOUR_DATAFRAME)"
      ]
    },
    {
      "cell_type": "markdown",
      "metadata": {
        "id": "TI9JR8AoLbW3"
      },
      "source": [
        "# Save and load pre-trained SentimentDL model"
      ]
    },
    {
      "cell_type": "code",
      "execution_count": 119,
      "metadata": {
        "id": "3r3_q4CJLkZR"
      },
      "outputs": [],
      "source": [
        "# hdfs:/ if you are saving it on distributed file systems in Hadoop\n",
        "pipelineModel.stages[-1].write().overwrite().save('./tmp_sentimentdl_model')\n",
        "\n"
      ]
    },
    {
      "cell_type": "markdown",
      "metadata": {
        "id": "3JaclNFsQJ-X"
      },
      "source": [
        "Let's use our pre-trained SentimentDLModel in a pipeline: "
      ]
    },
    {
      "cell_type": "code",
      "execution_count": 120,
      "metadata": {
        "colab": {
          "base_uri": "https://localhost:8080/"
        },
        "id": "NTJ53PbYQI-f",
        "outputId": "cabf6dfc-4c2f-44cd-d84f-64db6cd22d1f"
      },
      "outputs": [
        {
          "output_type": "stream",
          "name": "stdout",
          "text": [
            "tfhub_use download started this may take some time.\n",
            "Approximate size to download 923.7 MB\n",
            "[OK!]\n"
          ]
        }
      ],
      "source": [
        "\n",
        "# In a new pipeline you can load it for prediction\n",
        "document = DocumentAssembler()\\\n",
        "    .setInputCol(\"text\")\\\n",
        "    .setOutputCol(\"document\")\n",
        "\n",
        "use = UniversalSentenceEncoder.pretrained() \\\n",
        " .setInputCols([\"document\"])\\\n",
        " .setOutputCol(\"sentence_embeddings\")\n",
        "\n",
        "classifierdl = ClassifierDLModel.load(\"./tmp_sentimentdl_model\") \\\n",
        "  .setInputCols([\"sentence_embeddings\"])\\\n",
        "  .setOutputCol(\"class\")\n",
        "\n",
        "pipeline = Pipeline(\n",
        "    stages = [\n",
        "        document,\n",
        "        use,\n",
        "        classifierdl\n",
        "    ])\n"
      ]
    },
    {
      "cell_type": "markdown",
      "metadata": {
        "id": "VOrjIsKXHea8"
      },
      "source": [
        "Now let's load it back so we can have prediction all together with everything in that pipeline:"
      ]
    },
    {
      "cell_type": "code",
      "execution_count": 121,
      "metadata": {
        "id": "ccy54HeERCZ1"
      },
      "outputs": [],
      "source": [
        "# from pyspark.sql.types import StringType\n",
        "\n",
        "# dfTest = spark.createDataFrame([\n",
        "#     \"This movie is a delight for those of all ages. I have seen it several times and each time I am enchanted by the characters and magic. The cast is outstanding, the special effects delightful, everything most believable.\",\n",
        "#     \"This film was to put it simply rubbish. The child actors couldn't act, as can be seen by Harry's supposed surprise on learning he's a wizard. I'm a wizard! is said with such indifference you'd think he's not surprised at all.\"\n",
        "# ], StringType()).toDF(\"text\")"
      ]
    },
    {
      "cell_type": "code",
      "execution_count": 122,
      "metadata": {
        "id": "3BsNAWS4VRkd"
      },
      "outputs": [],
      "source": [
        "# dfTest = trainDataset\n",
        "# prediction = pipeline.fit(dfTest).transform(dfTest)"
      ]
    },
    {
      "cell_type": "code",
      "execution_count": 123,
      "metadata": {
        "id": "nz32PDjEVUTk"
      },
      "outputs": [],
      "source": [
        "# prediction.select(\"class.result\").show()\n",
        "\n",
        "# prediction.select(\"class.metadata\").show(truncate=False)"
      ]
    },
    {
      "cell_type": "markdown",
      "metadata": {
        "id": "UoJH3kA7RJpD"
      },
      "source": [
        "# Evaluation \n",
        "\n",
        "Let's evaluatte our SentimentDL model we trained earlier, saved it, and loaded it into a new pipeline by using a test dataset that model has never seen:"
      ]
    },
    {
      "cell_type": "code",
      "execution_count": 124,
      "metadata": {
        "id": "_aVPZXgst0-V"
      },
      "outputs": [],
      "source": [
        "testDataset = df_spark_test\n",
        "preds = pipelineModel.transform(testDataset)"
      ]
    },
    {
      "cell_type": "code",
      "execution_count": 125,
      "metadata": {
        "colab": {
          "base_uri": "https://localhost:8080/"
        },
        "id": "-H9UAWO_t-b9",
        "outputId": "848f4d08-1012-49f5-83d0-02f968178698"
      },
      "outputs": [
        {
          "output_type": "stream",
          "name": "stdout",
          "text": [
            "+--------+--------------------------------------------------+----------+\n",
            "|   label|                                              text|    result|\n",
            "+--------+--------------------------------------------------+----------+\n",
            "|negative|Pelosi moves to end Trump impeachment standoff,...| [neutral]|\n",
            "| neutral|            Iran gives Trump an off-ramp — for now| [neutral]|\n",
            "| neutral|House passes $1.4 trillion spending bill with T...| [neutral]|\n",
            "| neutral|At Las Vegas events, Joe Biden and Pete Buttigi...| [neutral]|\n",
            "| neutral|Biden says he would testify in Senate impeachme...| [neutral]|\n",
            "| neutral|Mike Bloomberg pitches himself to Jewish Americ...| [neutral]|\n",
            "| neutral|Democrats scale back language as Trump and GOP ...| [neutral]|\n",
            "|positive|Trump praises Pompeo for echoing his behavior: ...|[negative]|\n",
            "| neutral|CNN Don Lemon segment mocking Trump supporters ...|[negative]|\n",
            "|negative|  Trump has a rare public moment of self-awareness|[negative]|\n",
            "| neutral|         The Trailer: Who's voting for Tom Steyer?| [neutral]|\n",
            "|positive|Assessing the ‘four facts’ that a prominent Rep...|[negative]|\n",
            "|negative|Trump’s second-heaviest Twitter day mirrored th...| [neutral]|\n",
            "| neutral|House Democrats unveil two articles of impeachm...| [neutral]|\n",
            "|negative|Top Senate Republicans reject Trump’s renewed c...|[negative]|\n",
            "|negative|Trump uses sanctions as a favorite form of retr...|[negative]|\n",
            "| neutral|Trump’s March for Life appearance: A reminder t...| [neutral]|\n",
            "| neutral|GOP leaders spar over adding House members to T...| [neutral]|\n",
            "|negative|Trump should apologize for minimizing troops’ i...|[negative]|\n",
            "| neutral|Trump makes his closing argument on impeachment...| [neutral]|\n",
            "|negative|Democrats expected to unveil articles of impeac...| [neutral]|\n",
            "|negative|The Health 202: Trump can enforce his 'public c...|[negative]|\n",
            "|positive|Bernie Sanders faces barrage of attacks from ri...|[negative]|\n",
            "| neutral|                    Trump impeachment live updates| [neutral]|\n",
            "|positive| Trump rips Democrats on eve of likely impeachment| [neutral]|\n",
            "|positive|77-year-old Mike Bloomberg in “outstanding heal...|[negative]|\n",
            "|negative|Trump makes clear that he’d happily have Republ...|[negative]|\n",
            "| neutral|Trump’s legal team outlined its case. One day l...| [neutral]|\n",
            "|positive|Buttigieg wins first endorsement from black mem...| [neutral]|\n",
            "| neutral|         Trump's letter to Nancy Pelosi, annotated| [neutral]|\n",
            "|negative|House Democrats have enough votes to impeach Tr...| [neutral]|\n",
            "| neutral|Tom Steyer is surging in South Carolina and Nev...| [neutral]|\n",
            "| neutral|‘Billionaires in wine caves should not pick the...| [neutral]|\n",
            "| neutral|These Iowa voters loved Joe Biden in 2008. Now,...|[negative]|\n",
            "|positive|D.C. Mayor Muriel Bowser endorses Mike Bloomber...|[negative]|\n",
            "|negative|Giuliani’s Ukraine efforts are just a formaliza...| [neutral]|\n",
            "| neutral|Voters call on Buttigieg to embrace a diverse v...|[negative]|\n",
            "|positive|The Energy 202: Trump sends 'love' to Australia...|[negative]|\n",
            "|positive|Trump goes after Pelosi’s teeth as the House ge...| [neutral]|\n",
            "|positive|Trump’s impeachment defense, distilled: he’s in...|[negative]|\n",
            "|negative|Democrats fail to call out Warren on a central ...|[negative]|\n",
            "| neutral|The Daily 202: FBI director shows independence ...| [neutral]|\n",
            "|negative|   Buttigieg’s black-voter problem, by the numbers|[negative]|\n",
            "| neutral|A new Bolton revelation ties Trump to Giuliani’...| [neutral]|\n",
            "| neutral|Wavering Democrats face pressure as GOP eyes bi...|[negative]|\n",
            "| neutral|Sanders wants supporters to pipe down, but they...|[negative]|\n",
            "|positive|Inside Warren's courtship of her vanquished rivals| [neutral]|\n",
            "| neutral|The Technology 202: Bernie Sanders just made In...| [neutral]|\n",
            "| neutral|Trump’s order to strike Iranian commander spark...|[negative]|\n",
            "| neutral|Giuliani says Trump asked him to brief Justice ...| [neutral]|\n",
            "+--------+--------------------------------------------------+----------+\n",
            "only showing top 50 rows\n",
            "\n"
          ]
        }
      ],
      "source": [
        "preds.select('label','text',\"class.result\").show(50, truncate=50)"
      ]
    },
    {
      "cell_type": "code",
      "execution_count": 126,
      "metadata": {
        "id": "8-JF5_Y9uPFj"
      },
      "outputs": [],
      "source": [
        "preds_df = preds.select('label','text',\"class.result\").toPandas()"
      ]
    },
    {
      "cell_type": "code",
      "execution_count": 127,
      "metadata": {
        "id": "CS2q_OajuZyO"
      },
      "outputs": [],
      "source": [
        "# The result is an array since in Spark NLP you can have multiple sentences.\n",
        "# This means you can add SentenceDetector in the pipeline and feed it into\n",
        "# UniversalSentenceEncoder and you can have prediction based on each sentence.\n",
        "# Let's explode the array and get the item(s) inside of result column out\n",
        "preds_df['result'] = preds_df['result'].apply(lambda x : x[0])"
      ]
    },
    {
      "cell_type": "code",
      "execution_count": 128,
      "metadata": {
        "id": "naAHGWV5ugNX"
      },
      "outputs": [],
      "source": [
        "# We are going to use sklearn to evalute the results on test dataset\n",
        "from sklearn.metrics import classification_report"
      ]
    },
    {
      "cell_type": "markdown",
      "metadata": {
        "id": "o2BiHF_sR3Cz"
      },
      "source": [
        "Let's use `classification_report` from `sklearn` to evaluate the final scores. (keep in mind due to limited resources on a free Google Colab we only used 5 Epochs :)"
      ]
    },
    {
      "cell_type": "code",
      "execution_count": 129,
      "metadata": {
        "colab": {
          "base_uri": "https://localhost:8080/"
        },
        "id": "kLeO9u1bunPB",
        "outputId": "93d81164-5ff3-45c3-efba-19b933859303"
      },
      "outputs": [
        {
          "output_type": "stream",
          "name": "stdout",
          "text": [
            "              precision    recall  f1-score   support\n",
            "\n",
            "    negative       0.52      0.52      0.52        98\n",
            "     neutral       0.75      0.56      0.64       149\n",
            "    positive       0.00      0.00      0.00         0\n",
            "\n",
            "    accuracy                           0.54       247\n",
            "   macro avg       0.42      0.36      0.39       247\n",
            "weighted avg       0.66      0.54      0.59       247\n",
            "\n"
          ]
        },
        {
          "output_type": "stream",
          "name": "stderr",
          "text": [
            "/usr/local/lib/python3.7/dist-packages/sklearn/metrics/_classification.py:1318: UndefinedMetricWarning: Recall and F-score are ill-defined and being set to 0.0 in labels with no true samples. Use `zero_division` parameter to control this behavior.\n",
            "  _warn_prf(average, modifier, msg_start, len(result))\n",
            "/usr/local/lib/python3.7/dist-packages/sklearn/metrics/_classification.py:1318: UndefinedMetricWarning: Recall and F-score are ill-defined and being set to 0.0 in labels with no true samples. Use `zero_division` parameter to control this behavior.\n",
            "  _warn_prf(average, modifier, msg_start, len(result))\n",
            "/usr/local/lib/python3.7/dist-packages/sklearn/metrics/_classification.py:1318: UndefinedMetricWarning: Recall and F-score are ill-defined and being set to 0.0 in labels with no true samples. Use `zero_division` parameter to control this behavior.\n",
            "  _warn_prf(average, modifier, msg_start, len(result))\n"
          ]
        }
      ],
      "source": [
        "print (classification_report(preds_df['result'], preds_df['label']))"
      ]
    }
  ],
  "metadata": {
    "colab": {
      "collapsed_sections": [],
      "name": "Fit_sentiment_classifier.ipynb",
      "provenance": [],
      "include_colab_link": true
    },
    "kernelspec": {
      "display_name": "Python 3",
      "language": "python",
      "name": "python3"
    },
    "language_info": {
      "codemirror_mode": {
        "name": "ipython",
        "version": 3
      },
      "file_extension": ".py",
      "mimetype": "text/x-python",
      "name": "python",
      "nbconvert_exporter": "python",
      "pygments_lexer": "ipython3",
      "version": "3.6.9"
    },
    "nteract": {
      "version": "0.21.0"
    }
  },
  "nbformat": 4,
  "nbformat_minor": 0
}