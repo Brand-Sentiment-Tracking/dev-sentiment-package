{
  "cells": [
    {
      "cell_type": "markdown",
      "metadata": {
        "id": "view-in-github",
        "colab_type": "text"
      },
      "source": [
        "<a href=\"https://colab.research.google.com/github/Brand-Sentiment-Tracking/dev-sentiment-package/blob/main/johnsnow/Train_sentiment_classifier_with_our_data.ipynb\" target=\"_parent\"><img src=\"https://colab.research.google.com/assets/colab-badge.svg\" alt=\"Open In Colab\"/></a>"
      ]
    },
    {
      "cell_type": "markdown",
      "metadata": {
        "id": "ph3bDypIEXdd"
      },
      "source": [
        "![JohnSnowLabs](https://nlp.johnsnowlabs.com/assets/images/logo.png)"
      ]
    },
    {
      "cell_type": "markdown",
      "metadata": {
        "id": "aaVmDt1TEXdh"
      },
      "source": [
        "# Spark NLP\n",
        "### Multi-class Sentiment Classification\n",
        "#### By using SentimentDL"
      ]
    },
    {
      "cell_type": "markdown",
      "metadata": {
        "id": "jmo3o-b3MF5W"
      },
      "source": [
        "[![Open In Colab](https://colab.research.google.com/assets/colab-badge.svg)](https://colab.research.google.com/github/JohnSnowLabs/spark-nlp-workshop/blob/master/jupyter/training/english/classification/SentimentDL_train_multiclass_sentiment_classifier.ipynb)"
      ]
    },
    {
      "cell_type": "markdown",
      "metadata": {
        "id": "h4fQwZ46x4fu"
      },
      "source": [
        "Only run this block if you are inside Google Colab otherwise skip it"
      ]
    },
    {
      "cell_type": "code",
      "execution_count": 1,
      "metadata": {
        "colab": {
          "base_uri": "https://localhost:8080/"
        },
        "id": "MzishpT-MF5X",
        "outputId": "3026e561-ddb8-41fe-8c80-e05c8b39cd5d"
      },
      "outputs": [
        {
          "output_type": "stream",
          "name": "stdout",
          "text": [
            "--2022-04-26 15:16:51--  http://setup.johnsnowlabs.com/colab.sh\n",
            "Resolving setup.johnsnowlabs.com (setup.johnsnowlabs.com)... 51.158.130.125\n",
            "Connecting to setup.johnsnowlabs.com (setup.johnsnowlabs.com)|51.158.130.125|:80... connected.\n",
            "HTTP request sent, awaiting response... 302 Found\n",
            "Location: https://setup.johnsnowlabs.com/colab.sh [following]\n",
            "--2022-04-26 15:16:52--  https://setup.johnsnowlabs.com/colab.sh\n",
            "Connecting to setup.johnsnowlabs.com (setup.johnsnowlabs.com)|51.158.130.125|:443... connected.\n",
            "HTTP request sent, awaiting response... 302 Moved Temporarily\n",
            "Location: https://raw.githubusercontent.com/JohnSnowLabs/spark-nlp/master/scripts/colab_setup.sh [following]\n",
            "--2022-04-26 15:16:52--  https://raw.githubusercontent.com/JohnSnowLabs/spark-nlp/master/scripts/colab_setup.sh\n",
            "Resolving raw.githubusercontent.com (raw.githubusercontent.com)... 185.199.108.133, 185.199.109.133, 185.199.110.133, ...\n",
            "Connecting to raw.githubusercontent.com (raw.githubusercontent.com)|185.199.108.133|:443... connected.\n",
            "HTTP request sent, awaiting response... 200 OK\n",
            "Length: 1453 (1.4K) [text/plain]\n",
            "Saving to: ‘STDOUT’\n",
            "\n",
            "-                   100%[===================>]   1.42K  --.-KB/s    in 0s      \n",
            "\n",
            "2022-04-26 15:16:52 (27.9 MB/s) - written to stdout [1453/1453]\n",
            "\n",
            "setup Colab for PySpark 3.0.3 and Spark NLP 3.4.3\n",
            "Installing PySpark 3.0.3 and Spark NLP 3.4.3\n"
          ]
        }
      ],
      "source": [
        "# This is only to setup PySpark and Spark NLP on Colab\n",
        "!wget http://setup.johnsnowlabs.com/colab.sh -O - | bash"
      ]
    },
    {
      "cell_type": "code",
      "execution_count": 2,
      "metadata": {
        "colab": {
          "base_uri": "https://localhost:8080/"
        },
        "id": "Hmvv5Q4jMF5b",
        "outputId": "da5e48a7-c6cc-462e-8ddb-1c3e02619b3a"
      },
      "outputs": [
        {
          "output_type": "stream",
          "name": "stdout",
          "text": [
            "Spark NLP version:  3.4.3\n",
            "Apache Spark version 3.0.3\n"
          ]
        }
      ],
      "source": [
        "import sparknlp\n",
        "\n",
        "spark = sparknlp.start(gpu=True)\n",
        "\n",
        "print(\"Spark NLP version: \", sparknlp.version())\n",
        "print(\"Apache Spark version\", spark.version)"
      ]
    },
    {
      "cell_type": "markdown",
      "source": [
        "### Load political dataset"
      ],
      "metadata": {
        "id": "YFP74juaxxZN"
      }
    },
    {
      "cell_type": "code",
      "source": [
        "# Convert Kaggle data to Pandas dataframe and preprocess\n",
        "import pandas as pd\n",
        "from pyspark.sql.functions import rand \n",
        "\n",
        "sentiment_url_1 = 'https://raw.githubusercontent.com/Brand-Sentiment-Tracking/python-package/main/data/sentiment_test_data.csv' # Financial Phrase Bank\n",
        "sentiment_url_2 = 'https://raw.githubusercontent.com/Brand-Sentiment-Tracking/python-package/main/data/SEN_en_R.csv' # SEN data\n",
        "sentiment_url_3 = 'https://raw.githubusercontent.com/Brand-Sentiment-Tracking/dev-sentiment-package/main/data/labelled_1.csv' # owr extracted data\n",
        "\n",
        "\n",
        "\n",
        "# # Create a preprocessed spark dataframe\n",
        "# from pyspark import SparkFiles\n",
        "# spark.sparkContext.addFile(sentiment_url_3)\n",
        "\n",
        "# # Read financial dataframe\n",
        "# df_spark = spark.read.option(\"header\",\"false\").csv(\"file://\"+SparkFiles.get(\"sentiment_test_data.csv\"))\n",
        "# df_spark = df_spark.withColumnRenamed(\"_c0\", \"label\").withColumnRenamed(\"_c1\", \"text\")\n",
        "# # Shuffle dataset\n",
        "# df_spark = df_spark.orderBy(rand(2))\n",
        "\n",
        "# # Read political dataframe\n",
        "# df_spark = spark.read.option(\"header\",\"true\").csv(\"file://\"+SparkFiles.get(\"SEN_en_R.csv\"))\n",
        "# df_spark = df_spark.withColumnRenamed(\"_c0\", \"idx\").withColumnRenamed(\"headline\", \"text\") \\\n",
        "#                                                  .withColumnRenamed(\"majority_label\", 'label')\n",
        "# # Replace abbreviations with full lables and filter the unk datapoints (applies only to political dataset)                                         \n",
        "# df_spark = df_spark.replace(\"neutr\", \"neutral\").replace(\"pos\", \"positive\").replace(\"neg\",\"negative\")\n",
        "# df_spark = df_spark[df_spark.label != \"unk\"]\n",
        "\n",
        "# # Read our own dataframe\n",
        "\n",
        "cols_to_read = ['text',\"sentiment (Max's take)\"]\n",
        "df_pandas = pd.read_csv(sentiment_url_3, usecols=cols_to_read)\n",
        "\n",
        "# Rename sentiment to True_Sentiment\n",
        "df_pandas.rename(columns={\"sentiment (Max's take)\":\"True_Sentiment\"},inplace=True)\n",
        "\n",
        "# # Make dataset smaller for faster runtime\n",
        "num_sentences = 500\n",
        "total_num_sentences = df_pandas.shape[0]\n",
        "df_pandas.drop(df_pandas.index[num_sentences:total_num_sentences], inplace=True)\n",
        "\n",
        "# Replace 1, 2 , 3 with negative, neutral, positive\n",
        "df_pandas[\"True_Sentiment\"].replace({1.0: \"negative\", 2.0: \"neutral\", 3.0: \"positive\"}, inplace=True)\n",
        "\n",
        "# Downsample majority class neutral\n",
        "negative_points = df_pandas[df_pandas[\"True_Sentiment\"] == 'negative'].head(50)\n",
        "neutral_points = df_pandas[df_pandas[\"True_Sentiment\"] == 'neutral'].head(50)\n",
        "positive_points = df_pandas[df_pandas[\"True_Sentiment\"] == 'positive'].head(50)\n",
        "\n",
        "print(len(neutral_points))\n",
        "print(len(positive_points))\n",
        "print(len(negative_points))\n",
        "\n",
        "# Downsample negative class\n",
        "\n",
        "# Concatenate\n",
        "df_pandas = pd.concat([negative_points, neutral_points, positive_points])\n",
        "\n",
        "# Shuffle\n",
        "df_pandas = df_pandas.sample(frac=1)\n",
        "\n",
        "# # Convert to spark dataframe  \n",
        "df_spark = spark.createDataFrame(df_pandas)\n",
        "\n",
        "df_spark.show()\n"
      ],
      "metadata": {
        "colab": {
          "base_uri": "https://localhost:8080/"
        },
        "id": "bvV3IUsgx0Ys",
        "outputId": "5725ddd9-7622-4fdb-82e2-55d2102d28e3"
      },
      "execution_count": 3,
      "outputs": [
        {
          "output_type": "stream",
          "name": "stdout",
          "text": [
            "50\n",
            "50\n",
            "50\n",
            "+--------------------+--------------+\n",
            "|                text|True_Sentiment|\n",
            "+--------------------+--------------+\n",
            "|Veterans Minister...|      positive|\n",
            "|Flipkart says new...|      positive|\n",
            "|Salt & Straw Brin...|      positive|\n",
            "|Employer Direct H...|      positive|\n",
            "|Infinera (NASDAQ:...|      positive|\n",
            "|Tesla 1Q earnings...|      positive|\n",
            "|Russia pours in m...|       neutral|\n",
            "|Kyle Busch steadi...|      positive|\n",
            "|Several people fe...|      negative|\n",
            "|‘My body is here,...|       neutral|\n",
            "|Bank of N.T. Butt...|      negative|\n",
            "|Huntington Bancsh...|       neutral|\n",
            "|Report: Transfer ...|      positive|\n",
            "|New Jersey's recr...|       neutral|\n",
            "|Woman Convicted i...|      negative|\n",
            "|Yoshinoya beef bo...|      negative|\n",
            "|UN court: Colombi...|      negative|\n",
            "|New technology fo...|       neutral|\n",
            "|Price Alert: Shar...|      negative|\n",
            "|Two Children Woun...|      negative|\n",
            "+--------------------+--------------+\n",
            "only showing top 20 rows\n",
            "\n"
          ]
        }
      ]
    },
    {
      "cell_type": "code",
      "source": [
        "# Split into train and test\n",
        "df_spark_train = df_spark.limit(round(df_spark.count()*0.8))\n",
        "df_spark_test = df_spark.subtract(df_spark_train)\n",
        "\n",
        "df_spark_train.show()"
      ],
      "metadata": {
        "id": "b4f9NPIwIMgB",
        "colab": {
          "base_uri": "https://localhost:8080/"
        },
        "outputId": "4f3c938c-7c6b-4072-8a6e-ef3d4b228652"
      },
      "execution_count": 4,
      "outputs": [
        {
          "output_type": "stream",
          "name": "stdout",
          "text": [
            "+--------------------+--------------+\n",
            "|                text|True_Sentiment|\n",
            "+--------------------+--------------+\n",
            "|Veterans Minister...|      positive|\n",
            "|Flipkart says new...|      positive|\n",
            "|Salt & Straw Brin...|      positive|\n",
            "|Employer Direct H...|      positive|\n",
            "|Infinera (NASDAQ:...|      positive|\n",
            "|Tesla 1Q earnings...|      positive|\n",
            "|Russia pours in m...|       neutral|\n",
            "|Kyle Busch steadi...|      positive|\n",
            "|Several people fe...|      negative|\n",
            "|‘My body is here,...|       neutral|\n",
            "|Bank of N.T. Butt...|      negative|\n",
            "|Huntington Bancsh...|       neutral|\n",
            "|Report: Transfer ...|      positive|\n",
            "|New Jersey's recr...|       neutral|\n",
            "|Woman Convicted i...|      negative|\n",
            "|Yoshinoya beef bo...|      negative|\n",
            "|UN court: Colombi...|      negative|\n",
            "|New technology fo...|       neutral|\n",
            "|Price Alert: Shar...|      negative|\n",
            "|Two Children Woun...|      negative|\n",
            "+--------------------+--------------+\n",
            "only showing top 20 rows\n",
            "\n"
          ]
        }
      ]
    },
    {
      "cell_type": "markdown",
      "metadata": {
        "id": "zWFUDI6jMF5k"
      },
      "source": [
        "The content is inside `text` column and the sentiment is inside `label` column"
      ]
    },
    {
      "cell_type": "code",
      "execution_count": 5,
      "metadata": {
        "colab": {
          "base_uri": "https://localhost:8080/"
        },
        "id": "nURzgFJ7MF5o",
        "outputId": "7a03e965-6057-4f09-ad82-24a043fb6db9"
      },
      "outputs": [
        {
          "output_type": "stream",
          "name": "stdout",
          "text": [
            "+--------------------+--------------+\n",
            "|                text|True_Sentiment|\n",
            "+--------------------+--------------+\n",
            "|Veterans Minister...|      positive|\n",
            "|Flipkart says new...|      positive|\n",
            "|Salt & Straw Brin...|      positive|\n",
            "|Employer Direct H...|      positive|\n",
            "|Infinera (NASDAQ:...|      positive|\n",
            "|Tesla 1Q earnings...|      positive|\n",
            "|Russia pours in m...|       neutral|\n",
            "|Kyle Busch steadi...|      positive|\n",
            "|Several people fe...|      negative|\n",
            "|‘My body is here,...|       neutral|\n",
            "|Bank of N.T. Butt...|      negative|\n",
            "|Huntington Bancsh...|       neutral|\n",
            "|Report: Transfer ...|      positive|\n",
            "|New Jersey's recr...|       neutral|\n",
            "|Woman Convicted i...|      negative|\n",
            "|Yoshinoya beef bo...|      negative|\n",
            "|UN court: Colombi...|      negative|\n",
            "|New technology fo...|       neutral|\n",
            "|Price Alert: Shar...|      negative|\n",
            "|Two Children Woun...|      negative|\n",
            "+--------------------+--------------+\n",
            "only showing top 20 rows\n",
            "\n"
          ]
        }
      ],
      "source": [
        "trainDataset = df_spark_train\n",
        "trainDataset.show()"
      ]
    },
    {
      "cell_type": "code",
      "execution_count": 6,
      "metadata": {
        "colab": {
          "base_uri": "https://localhost:8080/"
        },
        "id": "5NIHJuVKx4gk",
        "outputId": "46fcb26f-d382-4586-a7c7-d553e297d439"
      },
      "outputs": [
        {
          "output_type": "execute_result",
          "data": {
            "text/plain": [
              "120"
            ]
          },
          "metadata": {},
          "execution_count": 6
        }
      ],
      "source": [
        "trainDataset.count()"
      ]
    },
    {
      "cell_type": "code",
      "execution_count": 7,
      "metadata": {
        "id": "0oKvNZaEMF5q"
      },
      "outputs": [],
      "source": [
        "from pyspark.ml import Pipeline\n",
        "\n",
        "from sparknlp.annotator import *\n",
        "from sparknlp.common import *\n",
        "from sparknlp.base import *"
      ]
    },
    {
      "cell_type": "code",
      "source": [
        "# Alternative architecture\n",
        "\n",
        "document = DocumentAssembler()\\\n",
        "      .setInputCol(\"text\")\\\n",
        "      .setOutputCol(\"document\")\n",
        "    \n",
        "bert_cmlm = BertSentenceEmbeddings.pretrained('sent_bert_use_cmlm_en_base', 'en')\\\n",
        "      .setInputCols([\"document\"])\\\n",
        "      .setOutputCol(\"sentence_embeddings\")\n",
        "\n",
        "classifierdl = ClassifierDLApproach()\\\n",
        "      .setInputCols([\"sentence_embeddings\"])\\\n",
        "      .setOutputCol(\"class\")\\\n",
        "      .setLabelColumn(\"True_Sentiment\")\\\n",
        "      .setMaxEpochs(10)\\\n",
        "      .setEnableOutputLogs(True)\\\n",
        "      .setLr(0.005)\\\n",
        "      .setBatchSize(20)\n",
        "\n",
        "bert_cmlm_clf_pipeline = Pipeline(\n",
        "    stages = [\n",
        "        document,\n",
        "        bert_cmlm,\n",
        "        classifierdl\n",
        "    ])"
      ],
      "metadata": {
        "colab": {
          "base_uri": "https://localhost:8080/"
        },
        "id": "Z1_UCdPXyQAS",
        "outputId": "b8840191-df55-4158-d2cc-20ad69eeceb5"
      },
      "execution_count": 8,
      "outputs": [
        {
          "output_type": "stream",
          "name": "stdout",
          "text": [
            "sent_bert_use_cmlm_en_base download started this may take some time.\n",
            "Approximate size to download 391.6 MB\n",
            "[OK!]\n"
          ]
        }
      ]
    },
    {
      "cell_type": "code",
      "execution_count": 9,
      "metadata": {
        "id": "H30A4FgNMF5t"
      },
      "outputs": [],
      "source": [
        "# # actual content is inside description column\n",
        "# document = DocumentAssembler()\\\n",
        "#     .setInputCol(\"text\")\\\n",
        "#     .setOutputCol(\"document\")\n",
        "\n",
        "# use = UniversalSentenceEncoder.pretrained() \\\n",
        "#  .setInputCols([\"document\"])\\\n",
        "#  .setOutputCol(\"sentence_embeddings\")\n",
        "\n",
        "\n",
        "# classsifierdl = ClassifierDLApproach()\\\n",
        "#   .setInputCols([\"sentence_embeddings\"])\\\n",
        "#   .setOutputCol(\"class\")\\\n",
        "#   .setLabelColumn(\"True_Sentiment\")\\\n",
        "#   .setMaxEpochs(5)\\\n",
        "#   .setEnableOutputLogs(True)\n",
        "\n",
        "# pipeline = Pipeline(\n",
        "#     stages = [\n",
        "#         document,\n",
        "#         use,\n",
        "#         classsifierdl\n",
        "#     ])"
      ]
    },
    {
      "cell_type": "code",
      "execution_count": 10,
      "metadata": {
        "id": "kia7NpRJMF5v"
      },
      "outputs": [],
      "source": [
        "# Fit to the training dataset (train the model)\n",
        "pipelineModel = bert_cmlm_clf_pipeline.fit(trainDataset)"
      ]
    },
    {
      "cell_type": "markdown",
      "metadata": {
        "id": "zMLuwQSCB05e"
      },
      "source": [
        "# How to use already trained SentimentDL pipeline or its model\n",
        "\n",
        "We have two ways of using what we already trained: pipeline or model.\n",
        "\n",
        "Let's see how we can save the entire pipeline, load it, and do some prediction with that pre-trained pipeline."
      ]
    },
    {
      "cell_type": "markdown",
      "metadata": {
        "id": "4I7COUCPCPe3"
      },
      "source": [
        "## Save and load pre-trained SentimentDL pipeline"
      ]
    },
    {
      "cell_type": "code",
      "execution_count": 11,
      "metadata": {
        "id": "QTDQ3riLD-zW"
      },
      "outputs": [],
      "source": [
        "# Google Colab is free so it comes with a little memory. \n",
        "# It's not possible to save and load in this notebook. But you can do this locally or in a decent machine!\n",
        "\n",
        "# pipelineModel.save(\"./sentimentdl_pipeline\")\n",
        "# loadedPipeline = PipelineModel.load(\"./sentimentdl_pipeline\")\n",
        "# loadedPipeline.transform(YOUR_DATAFRAME)"
      ]
    },
    {
      "cell_type": "markdown",
      "metadata": {
        "id": "TI9JR8AoLbW3"
      },
      "source": [
        "# Save and load pre-trained SentimentDL model"
      ]
    },
    {
      "cell_type": "code",
      "execution_count": 12,
      "metadata": {
        "id": "3r3_q4CJLkZR"
      },
      "outputs": [],
      "source": [
        "# hdfs:/ if you are saving it on distributed file systems in Hadoop\n",
        "pipelineModel.stages[-1].write().overwrite().save('./tmp_sentimentdl_model')\n",
        "\n"
      ]
    },
    {
      "cell_type": "markdown",
      "metadata": {
        "id": "3JaclNFsQJ-X"
      },
      "source": [
        "Let's use our pre-trained SentimentDLModel in a pipeline: "
      ]
    },
    {
      "cell_type": "code",
      "source": [
        "# Alternative architecture\n",
        "\n",
        "document = DocumentAssembler()\\\n",
        "      .setInputCol(\"description\")\\\n",
        "      .setOutputCol(\"document\")\n",
        "    \n",
        "bert_cmlm = BertSentenceEmbeddings.pretrained('sent_bert_use_cmlm_en_base', 'en')\\\n",
        "      .setInputCols([\"document\"])\\\n",
        "      .setOutputCol(\"sentence_embeddings\")\n",
        "\n",
        "classifierdl = ClassifierDLModel.load(\"./tmp_sentimentdl_model\") \\\n",
        "  .setInputCols([\"sentence_embeddings\"])\\\n",
        "  .setOutputCol(\"class\")\n",
        "\n",
        "bert_cmlm_clf_pipeline = Pipeline(\n",
        "    stages = [\n",
        "        document,\n",
        "        bert_cmlm,\n",
        "        classifierdl\n",
        "    ])"
      ],
      "metadata": {
        "colab": {
          "base_uri": "https://localhost:8080/"
        },
        "id": "-ZzX9wJczGbm",
        "outputId": "1fe2b4dc-4220-45f6-efd9-7c6d84f57eb5"
      },
      "execution_count": 13,
      "outputs": [
        {
          "output_type": "stream",
          "name": "stdout",
          "text": [
            "sent_bert_use_cmlm_en_base download started this may take some time.\n",
            "Approximate size to download 391.6 MB\n",
            "[OK!]\n"
          ]
        }
      ]
    },
    {
      "cell_type": "code",
      "execution_count": 14,
      "metadata": {
        "id": "NTJ53PbYQI-f"
      },
      "outputs": [],
      "source": [
        "# # In a new pipeline you can load it for prediction\n",
        "# document = DocumentAssembler()\\\n",
        "#     .setInputCol(\"text\")\\\n",
        "#     .setOutputCol(\"document\")\n",
        "\n",
        "# use = UniversalSentenceEncoder.pretrained() \\\n",
        "#  .setInputCols([\"document\"])\\\n",
        "#  .setOutputCol(\"sentence_embeddings\")\n",
        "\n",
        "# classifierdl = ClassifierDLModel.load(\"./tmp_sentimentdl_model\") \\\n",
        "#   .setInputCols([\"sentence_embeddings\"])\\\n",
        "#   .setOutputCol(\"class\")\n",
        "\n",
        "# pipeline = Pipeline(\n",
        "#     stages = [\n",
        "#         document,\n",
        "#         use,\n",
        "#         classifierdl\n",
        "#     ])\n"
      ]
    },
    {
      "cell_type": "markdown",
      "metadata": {
        "id": "UoJH3kA7RJpD"
      },
      "source": [
        "# Evaluation \n",
        "\n",
        "Let's evaluatte our SentimentDL model we trained earlier, saved it, and loaded it into a new pipeline by using a test dataset that model has never seen:"
      ]
    },
    {
      "cell_type": "code",
      "execution_count": 15,
      "metadata": {
        "id": "_aVPZXgst0-V"
      },
      "outputs": [],
      "source": [
        "testDataset = df_spark_test\n",
        "preds = pipelineModel.transform(testDataset)"
      ]
    },
    {
      "cell_type": "code",
      "execution_count": 16,
      "metadata": {
        "colab": {
          "base_uri": "https://localhost:8080/"
        },
        "id": "-H9UAWO_t-b9",
        "outputId": "31269fe9-44c6-4b06-b063-e4d8d120ad86"
      },
      "outputs": [
        {
          "output_type": "stream",
          "name": "stdout",
          "text": [
            "+--------------+--------------------------------------------------+----------+\n",
            "|True_Sentiment|                                              text|    result|\n",
            "+--------------+--------------------------------------------------+----------+\n",
            "|      negative|Bakery owner accuses Truerlein of ‘broken promi...| [neutral]|\n",
            "|      positive|Nova Scotia taxi driver leaves $1.68 million to...|[negative]|\n",
            "|       neutral|UK lawmakers vote on whether to probe Johnson's...| [neutral]|\n",
            "|      negative|10 Killed, 40 Injured in Bombing at Shiite Mosq...|[negative]|\n",
            "|      negative|Psychologist: Expect an increase in Georgia’s s...|[positive]|\n",
            "|       neutral|           CA San Francisco Bay Area Zone Forecast| [neutral]|\n",
            "|       neutral|CPI figures highlight global economic challenge...| [neutral]|\n",
            "|       neutral|               Remembering Beavercreek High School| [neutral]|\n",
            "|      positive|Local favorites Savannah Seafood Shack, Zunzi's...| [neutral]|\n",
            "|      positive|Transcenta Successfully Passed the Audit of EU ...|[positive]|\n",
            "|      negative|Price Alert: Shares of Acelrx (ACRX) Trade 3.51...|[negative]|\n",
            "|      negative|‘I hope nobody buys this bullsh-t’ - Nate Diaz ...|[positive]|\n",
            "|      negative|Office Properties Income Trust (NASDAQ:OPI) Dow...|[positive]|\n",
            "|      positive|What Marcus Smart’s DPOY win means for his care...|[positive]|\n",
            "|      positive|RYU Apparel Brings Customer Care Services In-ho...|[positive]|\n",
            "|      positive|How a Madison, Wisconsin-based nonprofit is eng...| [neutral]|\n",
            "|      negative|Odisha Dalit man made to rub nose in own spit f...|[positive]|\n",
            "|      negative|Report: Hunger kills hundreds of kids in Ethiop...|[positive]|\n",
            "|       neutral|Man United hire Erik ten Hag as 5th manager in ...| [neutral]|\n",
            "|      negative|Ambulance crews called to A835 Tore roundabout ...|[positive]|\n",
            "|       neutral|Sigma Planning Corp Buys New Stake in Invesco S...|[positive]|\n",
            "|       neutral|              Remembering Beaver Local High School| [neutral]|\n",
            "|       neutral|                   Remembering Bearden High School| [neutral]|\n",
            "|      negative|IPL 2022: It's High Time For Rohit Sharma And V...|[positive]|\n",
            "|      positive|LA Receives $5 Million From Congress To Improve...|[positive]|\n",
            "|       neutral|Rutgers football assistant Drew Lascari relying...|[positive]|\n",
            "|      negative|Letterston woman accused of supplying heroin to...|[negative]|\n",
            "|      negative|Midday Report: Viant (DSP) Shares Fall for Apri...|[negative]|\n",
            "|       neutral|AMREP Co. (NYSE:AXR) Director Edward B. Cloues ...| [neutral]|\n",
            "+--------------+--------------------------------------------------+----------+\n",
            "\n"
          ]
        }
      ],
      "source": [
        "preds.select('True_Sentiment','text',\"class.result\").show(50, truncate=50)"
      ]
    },
    {
      "cell_type": "code",
      "execution_count": 17,
      "metadata": {
        "id": "8-JF5_Y9uPFj"
      },
      "outputs": [],
      "source": [
        "preds_df = preds.select('True_Sentiment','text',\"class.result\").toPandas()"
      ]
    },
    {
      "cell_type": "code",
      "execution_count": 18,
      "metadata": {
        "id": "CS2q_OajuZyO"
      },
      "outputs": [],
      "source": [
        "# The result is an array since in Spark NLP you can have multiple sentences.\n",
        "# This means you can add SentenceDetector in the pipeline and feed it into\n",
        "# UniversalSentenceEncoder and you can have prediction based on each sentence.\n",
        "# Let's explode the array and get the item(s) inside of result column out\n",
        "preds_df['result'] = preds_df['result'].apply(lambda x : x[0])"
      ]
    },
    {
      "cell_type": "code",
      "execution_count": 19,
      "metadata": {
        "id": "naAHGWV5ugNX"
      },
      "outputs": [],
      "source": [
        "# We are going to use sklearn to evalute the results on test dataset\n",
        "from sklearn.metrics import classification_report"
      ]
    },
    {
      "cell_type": "markdown",
      "metadata": {
        "id": "o2BiHF_sR3Cz"
      },
      "source": [
        "Let's use `classification_report` from `sklearn` to evaluate the final scores. (keep in mind due to limited resources on a free Google Colab we only used 5 Epochs :)"
      ]
    },
    {
      "cell_type": "code",
      "execution_count": 20,
      "metadata": {
        "colab": {
          "base_uri": "https://localhost:8080/"
        },
        "id": "kLeO9u1bunPB",
        "outputId": "6b2ea415-8848-40ff-9fb5-1972d5f84590"
      },
      "outputs": [
        {
          "output_type": "stream",
          "name": "stdout",
          "text": [
            "              precision    recall  f1-score   support\n",
            "\n",
            "    negative       0.80      0.33      0.47        12\n",
            "     neutral       0.73      0.80      0.76        10\n",
            "    positive       0.31      0.57      0.40         7\n",
            "\n",
            "    accuracy                           0.55        29\n",
            "   macro avg       0.61      0.57      0.54        29\n",
            "weighted avg       0.66      0.55      0.55        29\n",
            "\n"
          ]
        }
      ],
      "source": [
        "print (classification_report(preds_df['True_Sentiment'], preds_df['result'] ))"
      ]
    }
  ],
  "metadata": {
    "colab": {
      "collapsed_sections": [],
      "name": "Train_sentiment_classifier_with_our_data.ipynb",
      "provenance": [],
      "include_colab_link": true
    },
    "kernelspec": {
      "display_name": "Python 3",
      "language": "python",
      "name": "python3"
    },
    "language_info": {
      "codemirror_mode": {
        "name": "ipython",
        "version": 3
      },
      "file_extension": ".py",
      "mimetype": "text/x-python",
      "name": "python",
      "nbconvert_exporter": "python",
      "pygments_lexer": "ipython3",
      "version": "3.6.9"
    },
    "nteract": {
      "version": "0.21.0"
    },
    "accelerator": "GPU"
  },
  "nbformat": 4,
  "nbformat_minor": 0
}