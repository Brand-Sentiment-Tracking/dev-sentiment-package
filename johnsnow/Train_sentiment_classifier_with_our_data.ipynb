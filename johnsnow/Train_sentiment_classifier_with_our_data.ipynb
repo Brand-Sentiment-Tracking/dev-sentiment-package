{
  "cells": [
    {
      "cell_type": "markdown",
      "metadata": {
        "id": "view-in-github",
        "colab_type": "text"
      },
      "source": [
        "<a href=\"https://colab.research.google.com/github/Brand-Sentiment-Tracking/dev-sentiment-package/blob/main/johnsnow/Train_sentiment_classifier_with_our_data.ipynb\" target=\"_parent\"><img src=\"https://colab.research.google.com/assets/colab-badge.svg\" alt=\"Open In Colab\"/></a>"
      ]
    },
    {
      "cell_type": "markdown",
      "metadata": {
        "id": "ph3bDypIEXdd"
      },
      "source": [
        "![JohnSnowLabs](https://nlp.johnsnowlabs.com/assets/images/logo.png)"
      ]
    },
    {
      "cell_type": "markdown",
      "metadata": {
        "id": "aaVmDt1TEXdh"
      },
      "source": [
        "# Spark NLP\n",
        "### Multi-class Sentiment Classification\n",
        "#### By using SentimentDL"
      ]
    },
    {
      "cell_type": "markdown",
      "metadata": {
        "id": "jmo3o-b3MF5W"
      },
      "source": [
        "[![Open In Colab](https://colab.research.google.com/assets/colab-badge.svg)](https://colab.research.google.com/github/JohnSnowLabs/spark-nlp-workshop/blob/master/jupyter/training/english/classification/SentimentDL_train_multiclass_sentiment_classifier.ipynb)"
      ]
    },
    {
      "cell_type": "markdown",
      "metadata": {
        "id": "h4fQwZ46x4fu"
      },
      "source": [
        "Only run this block if you are inside Google Colab otherwise skip it"
      ]
    },
    {
      "cell_type": "code",
      "execution_count": 1,
      "metadata": {
        "colab": {
          "base_uri": "https://localhost:8080/"
        },
        "id": "MzishpT-MF5X",
        "outputId": "19387abc-8629-49ee-e1f8-e086c6bc45b8"
      },
      "outputs": [
        {
          "output_type": "stream",
          "name": "stdout",
          "text": [
            "--2022-04-27 09:55:36--  http://setup.johnsnowlabs.com/colab.sh\n",
            "Resolving setup.johnsnowlabs.com (setup.johnsnowlabs.com)... 51.158.130.125\n",
            "Connecting to setup.johnsnowlabs.com (setup.johnsnowlabs.com)|51.158.130.125|:80... connected.\n",
            "HTTP request sent, awaiting response... 302 Found\n",
            "Location: https://setup.johnsnowlabs.com/colab.sh [following]\n",
            "--2022-04-27 09:55:37--  https://setup.johnsnowlabs.com/colab.sh\n",
            "Connecting to setup.johnsnowlabs.com (setup.johnsnowlabs.com)|51.158.130.125|:443... connected.\n",
            "HTTP request sent, awaiting response... 302 Moved Temporarily\n",
            "Location: https://raw.githubusercontent.com/JohnSnowLabs/spark-nlp/master/scripts/colab_setup.sh [following]\n",
            "--2022-04-27 09:55:37--  https://raw.githubusercontent.com/JohnSnowLabs/spark-nlp/master/scripts/colab_setup.sh\n",
            "Resolving raw.githubusercontent.com (raw.githubusercontent.com)... 185.199.111.133, 185.199.109.133, 185.199.108.133, ...\n",
            "Connecting to raw.githubusercontent.com (raw.githubusercontent.com)|185.199.111.133|:443... connected.\n",
            "HTTP request sent, awaiting response... 200 OK\n",
            "Length: 1453 (1.4K) [text/plain]\n",
            "Saving to: ‘STDOUT’\n",
            "\n",
            "-                   100%[===================>]   1.42K  --.-KB/s    in 0s      \n",
            "\n",
            "2022-04-27 09:55:37 (28.2 MB/s) - written to stdout [1453/1453]\n",
            "\n",
            "setup Colab for PySpark 3.0.3 and Spark NLP 3.4.3\n",
            "Installing PySpark 3.0.3 and Spark NLP 3.4.3\n"
          ]
        }
      ],
      "source": [
        "# This is only to setup PySpark and Spark NLP on Colab\n",
        "!wget http://setup.johnsnowlabs.com/colab.sh -O - | bash"
      ]
    },
    {
      "cell_type": "code",
      "execution_count": 2,
      "metadata": {
        "colab": {
          "base_uri": "https://localhost:8080/"
        },
        "id": "Hmvv5Q4jMF5b",
        "outputId": "03e2e3ba-14e6-4734-c56a-ec21c35153a3"
      },
      "outputs": [
        {
          "output_type": "stream",
          "name": "stdout",
          "text": [
            "Spark NLP version:  3.4.3\n",
            "Apache Spark version 3.0.3\n"
          ]
        }
      ],
      "source": [
        "import sparknlp\n",
        "\n",
        "spark = sparknlp.start(gpu=True)\n",
        "\n",
        "print(\"Spark NLP version: \", sparknlp.version())\n",
        "print(\"Apache Spark version\", spark.version)"
      ]
    },
    {
      "cell_type": "markdown",
      "source": [
        "### Load political dataset"
      ],
      "metadata": {
        "id": "YFP74juaxxZN"
      }
    },
    {
      "cell_type": "code",
      "source": [
        "# Convert Kaggle data to Pandas dataframe and preprocess\n",
        "import pandas as pd\n",
        "from pyspark.sql.functions import rand \n",
        "\n",
        "sentiment_url_1 = 'https://raw.githubusercontent.com/Brand-Sentiment-Tracking/python-package/main/data/sentiment_test_data.csv' # Financial Phrase Bank\n",
        "sentiment_url_2 = 'https://raw.githubusercontent.com/Brand-Sentiment-Tracking/python-package/main/data/SEN_en_R.csv' # SEN data\n",
        "sentiment_url_3 = 'https://raw.githubusercontent.com/Brand-Sentiment-Tracking/dev-sentiment-package/main/data/labelled_1.csv' # owr extracted data\n",
        "\n",
        "\n",
        "\n",
        "# # Create a preprocessed spark dataframe\n",
        "# from pyspark import SparkFiles\n",
        "# spark.sparkContext.addFile(sentiment_url_3)\n",
        "\n",
        "# # Read financial dataframe\n",
        "# df_spark = spark.read.option(\"header\",\"false\").csv(\"file://\"+SparkFiles.get(\"sentiment_test_data.csv\"))\n",
        "# df_spark = df_spark.withColumnRenamed(\"_c0\", \"label\").withColumnRenamed(\"_c1\", \"text\")\n",
        "# # Shuffle dataset\n",
        "# df_spark = df_spark.orderBy(rand(2))\n",
        "\n",
        "# # Read political dataframe\n",
        "# df_spark = spark.read.option(\"header\",\"true\").csv(\"file://\"+SparkFiles.get(\"SEN_en_R.csv\"))\n",
        "# df_spark = df_spark.withColumnRenamed(\"_c0\", \"idx\").withColumnRenamed(\"headline\", \"text\") \\\n",
        "#                                                  .withColumnRenamed(\"majority_label\", 'label')\n",
        "# # Replace abbreviations with full lables and filter the unk datapoints (applies only to political dataset)                                         \n",
        "# df_spark = df_spark.replace(\"neutr\", \"neutral\").replace(\"pos\", \"positive\").replace(\"neg\",\"negative\")\n",
        "# df_spark = df_spark[df_spark.label != \"unk\"]\n",
        "\n",
        "# # Read our own dataframe\n",
        "\n",
        "cols_to_read = ['text',\"sentiment (Max's take)\"]\n",
        "df_pandas = pd.read_csv(sentiment_url_3, usecols=cols_to_read)\n",
        "\n",
        "# Rename sentiment to True_Sentiment\n",
        "df_pandas.rename(columns={\"sentiment (Max's take)\":\"True_Sentiment\"},inplace=True)\n",
        "\n",
        "# # Make dataset smaller for faster runtime\n",
        "num_sentences = 500\n",
        "total_num_sentences = df_pandas.shape[0]\n",
        "df_pandas.drop(df_pandas.index[num_sentences:total_num_sentences], inplace=True)\n",
        "\n",
        "# Replace 1, 2 , 3 with negative, neutral, positive\n",
        "df_pandas[\"True_Sentiment\"].replace({1.0: \"negative\", 2.0: \"neutral\", 3.0: \"positive\"}, inplace=True)\n",
        "\n",
        "# Downsample majority class neutral\n",
        "negative_points = df_pandas[df_pandas[\"True_Sentiment\"] == 'negative'].head(50)\n",
        "neutral_points = df_pandas[df_pandas[\"True_Sentiment\"] == 'neutral'].head(100)\n",
        "positive_points = df_pandas[df_pandas[\"True_Sentiment\"] == 'positive'].head(50)\n",
        "\n",
        "print(len(neutral_points))\n",
        "print(len(positive_points))\n",
        "print(len(negative_points))\n",
        "\n",
        "# Downsample negative class\n",
        "\n",
        "# Concatenate\n",
        "df_pandas = pd.concat([negative_points, neutral_points, positive_points])\n",
        "\n",
        "# Shuffle\n",
        "df_pandas = df_pandas.sample(frac=1, random_state = 1)\n",
        "\n",
        "# # Convert to spark dataframe  \n",
        "df_spark = spark.createDataFrame(df_pandas)\n",
        "\n",
        "df_spark.show()\n"
      ],
      "metadata": {
        "colab": {
          "base_uri": "https://localhost:8080/"
        },
        "id": "bvV3IUsgx0Ys",
        "outputId": "2a3183ee-3aaa-4293-d8c5-68e2431d978e"
      },
      "execution_count": 3,
      "outputs": [
        {
          "output_type": "stream",
          "name": "stdout",
          "text": [
            "100\n",
            "50\n",
            "50\n",
            "+--------------------+--------------+\n",
            "|                text|True_Sentiment|\n",
            "+--------------------+--------------+\n",
            "|Herc Holdings: Q1...|       neutral|\n",
            "|Price Alert: Shar...|      negative|\n",
            "|Dhinakaran calls ...|      negative|\n",
            "|Social NFT Market...|       neutral|\n",
            "|Alberta Investmen...|      positive|\n",
            "|Report: Transfer ...|      positive|\n",
            "|The Daily Ripple-...|       neutral|\n",
            "|UN court: Colombi...|      negative|\n",
            "|In a veiled attac...|      negative|\n",
            "|Pembroke Castle G...|      positive|\n",
            "|UN: Yemen’s Houth...|      positive|\n",
            "|Letterston woman ...|      negative|\n",
            "|Midday Report: Vi...|      negative|\n",
            "|Marsh & McLennan:...|       neutral|\n",
            "|The Dutch Are Sen...|       neutral|\n",
            "|Scholar uses tras...|       neutral|\n",
            "|Veeva Vault CTMS ...|      positive|\n",
            "|Explosion hits ma...|      negative|\n",
            "|Tech-infused Lake...|       neutral|\n",
            "|Pakistan’s new Ca...|       neutral|\n",
            "+--------------------+--------------+\n",
            "only showing top 20 rows\n",
            "\n"
          ]
        }
      ]
    },
    {
      "cell_type": "code",
      "source": [
        "# Split into train and test\n",
        "df_spark_train = df_spark.limit(round(df_spark.count()*0.8)) # 80% train\n",
        "df_spark_test = df_spark.subtract(df_spark_train) # 20% test\n",
        "\n",
        "df_spark_train.show()"
      ],
      "metadata": {
        "id": "b4f9NPIwIMgB",
        "colab": {
          "base_uri": "https://localhost:8080/"
        },
        "outputId": "98b7c1b7-841d-4d0a-c770-de472e63e1ef"
      },
      "execution_count": 4,
      "outputs": [
        {
          "output_type": "stream",
          "name": "stdout",
          "text": [
            "+--------------------+--------------+\n",
            "|                text|True_Sentiment|\n",
            "+--------------------+--------------+\n",
            "|Herc Holdings: Q1...|       neutral|\n",
            "|Price Alert: Shar...|      negative|\n",
            "|Dhinakaran calls ...|      negative|\n",
            "|Social NFT Market...|       neutral|\n",
            "|Alberta Investmen...|      positive|\n",
            "|Report: Transfer ...|      positive|\n",
            "|The Daily Ripple-...|       neutral|\n",
            "|UN court: Colombi...|      negative|\n",
            "|In a veiled attac...|      negative|\n",
            "|Pembroke Castle G...|      positive|\n",
            "|UN: Yemen’s Houth...|      positive|\n",
            "|Letterston woman ...|      negative|\n",
            "|Midday Report: Vi...|      negative|\n",
            "|Marsh & McLennan:...|       neutral|\n",
            "|The Dutch Are Sen...|       neutral|\n",
            "|Scholar uses tras...|       neutral|\n",
            "|Veeva Vault CTMS ...|      positive|\n",
            "|Explosion hits ma...|      negative|\n",
            "|Tech-infused Lake...|       neutral|\n",
            "|Pakistan’s new Ca...|       neutral|\n",
            "+--------------------+--------------+\n",
            "only showing top 20 rows\n",
            "\n"
          ]
        }
      ]
    },
    {
      "cell_type": "markdown",
      "metadata": {
        "id": "zWFUDI6jMF5k"
      },
      "source": [
        "The content is inside `text` column and the sentiment is inside `label` column"
      ]
    },
    {
      "cell_type": "code",
      "execution_count": 5,
      "metadata": {
        "colab": {
          "base_uri": "https://localhost:8080/"
        },
        "id": "nURzgFJ7MF5o",
        "outputId": "184f57a0-3011-4fd2-db20-466019beb7c9"
      },
      "outputs": [
        {
          "output_type": "stream",
          "name": "stdout",
          "text": [
            "+--------------------+--------------+\n",
            "|                text|True_Sentiment|\n",
            "+--------------------+--------------+\n",
            "|Herc Holdings: Q1...|       neutral|\n",
            "|Price Alert: Shar...|      negative|\n",
            "|Dhinakaran calls ...|      negative|\n",
            "|Social NFT Market...|       neutral|\n",
            "|Alberta Investmen...|      positive|\n",
            "|Report: Transfer ...|      positive|\n",
            "|The Daily Ripple-...|       neutral|\n",
            "|UN court: Colombi...|      negative|\n",
            "|In a veiled attac...|      negative|\n",
            "|Pembroke Castle G...|      positive|\n",
            "|UN: Yemen’s Houth...|      positive|\n",
            "|Letterston woman ...|      negative|\n",
            "|Midday Report: Vi...|      negative|\n",
            "|Marsh & McLennan:...|       neutral|\n",
            "|The Dutch Are Sen...|       neutral|\n",
            "|Scholar uses tras...|       neutral|\n",
            "|Veeva Vault CTMS ...|      positive|\n",
            "|Explosion hits ma...|      negative|\n",
            "|Tech-infused Lake...|       neutral|\n",
            "|Pakistan’s new Ca...|       neutral|\n",
            "+--------------------+--------------+\n",
            "only showing top 20 rows\n",
            "\n"
          ]
        }
      ],
      "source": [
        "trainDataset = df_spark_train\n",
        "trainDataset.show()"
      ]
    },
    {
      "cell_type": "code",
      "execution_count": 6,
      "metadata": {
        "colab": {
          "base_uri": "https://localhost:8080/"
        },
        "id": "5NIHJuVKx4gk",
        "outputId": "19f78a17-deff-4201-93a2-ec9657c98a2c"
      },
      "outputs": [
        {
          "output_type": "execute_result",
          "data": {
            "text/plain": [
              "160"
            ]
          },
          "metadata": {},
          "execution_count": 6
        }
      ],
      "source": [
        "trainDataset.count()"
      ]
    },
    {
      "cell_type": "code",
      "execution_count": 7,
      "metadata": {
        "id": "0oKvNZaEMF5q"
      },
      "outputs": [],
      "source": [
        "from pyspark.ml import Pipeline\n",
        "\n",
        "from sparknlp.annotator import *\n",
        "from sparknlp.common import *\n",
        "from sparknlp.base import *"
      ]
    },
    {
      "cell_type": "code",
      "source": [
        "# Alternative architecture\n",
        "\n",
        "document = DocumentAssembler()\\\n",
        "      .setInputCol(\"text\")\\\n",
        "      .setOutputCol(\"document\")\n",
        "    \n",
        "bert_cmlm = BertSentenceEmbeddings.pretrained('sent_bert_use_cmlm_en_base', 'en')\\\n",
        "      .setInputCols([\"document\"])\\\n",
        "      .setOutputCol(\"sentence_embeddings\")\n",
        "\n",
        "classifierdl = ClassifierDLApproach()\\\n",
        "      .setInputCols([\"sentence_embeddings\"])\\\n",
        "      .setOutputCol(\"class\")\\\n",
        "      .setLabelColumn(\"True_Sentiment\")\\\n",
        "      .setMaxEpochs(5)\\\n",
        "      .setEnableOutputLogs(True)\\\n",
        "      .setLr(0.005)\\\n",
        "      .setBatchSize(20)\n",
        "\n",
        "bert_cmlm_clf_pipeline = Pipeline(\n",
        "    stages = [\n",
        "        document,\n",
        "        bert_cmlm,\n",
        "        classifierdl\n",
        "    ])"
      ],
      "metadata": {
        "colab": {
          "base_uri": "https://localhost:8080/"
        },
        "id": "Z1_UCdPXyQAS",
        "outputId": "d3b65289-05a3-4ebc-c754-5b70877f3085"
      },
      "execution_count": 23,
      "outputs": [
        {
          "output_type": "stream",
          "name": "stdout",
          "text": [
            "sent_bert_use_cmlm_en_base download started this may take some time.\n",
            "Approximate size to download 391.6 MB\n",
            "[OK!]\n"
          ]
        }
      ]
    },
    {
      "cell_type": "code",
      "execution_count": 24,
      "metadata": {
        "id": "H30A4FgNMF5t"
      },
      "outputs": [],
      "source": [
        "# # actual content is inside description column\n",
        "# document = DocumentAssembler()\\\n",
        "#     .setInputCol(\"text\")\\\n",
        "#     .setOutputCol(\"document\")\n",
        "\n",
        "# use = UniversalSentenceEncoder.pretrained() \\\n",
        "#  .setInputCols([\"document\"])\\\n",
        "#  .setOutputCol(\"sentence_embeddings\")\n",
        "\n",
        "\n",
        "# classsifierdl = ClassifierDLApproach()\\\n",
        "#   .setInputCols([\"sentence_embeddings\"])\\\n",
        "#   .setOutputCol(\"class\")\\\n",
        "#   .setLabelColumn(\"True_Sentiment\")\\\n",
        "#   .setMaxEpochs(5)\\\n",
        "#   .setEnableOutputLogs(True)\n",
        "\n",
        "# pipeline = Pipeline(\n",
        "#     stages = [\n",
        "#         document,\n",
        "#         use,\n",
        "#         classsifierdl\n",
        "#     ])"
      ]
    },
    {
      "cell_type": "code",
      "execution_count": 25,
      "metadata": {
        "id": "kia7NpRJMF5v"
      },
      "outputs": [],
      "source": [
        "# Fit to the training dataset (train the model)\n",
        "pipelineModel = bert_cmlm_clf_pipeline.fit(trainDataset)"
      ]
    },
    {
      "cell_type": "markdown",
      "metadata": {
        "id": "zMLuwQSCB05e"
      },
      "source": [
        "# How to use already trained SentimentDL pipeline or its model\n",
        "\n",
        "We have two ways of using what we already trained: pipeline or model.\n",
        "\n",
        "Let's see how we can save the entire pipeline, load it, and do some prediction with that pre-trained pipeline."
      ]
    },
    {
      "cell_type": "markdown",
      "metadata": {
        "id": "4I7COUCPCPe3"
      },
      "source": [
        "## Save and load pre-trained SentimentDL pipeline"
      ]
    },
    {
      "cell_type": "code",
      "execution_count": 26,
      "metadata": {
        "id": "QTDQ3riLD-zW"
      },
      "outputs": [],
      "source": [
        "# Google Colab is free so it comes with a little memory. \n",
        "# It's not possible to save and load in this notebook. But you can do this locally or in a decent machine!\n",
        "\n",
        "# pipelineModel.save(\"./sentimentdl_pipeline\")\n",
        "# loadedPipeline = PipelineModel.load(\"./sentimentdl_pipeline\")\n",
        "# loadedPipeline.transform(YOUR_DATAFRAME)"
      ]
    },
    {
      "cell_type": "markdown",
      "metadata": {
        "id": "TI9JR8AoLbW3"
      },
      "source": [
        "# Save and load pre-trained SentimentDL model"
      ]
    },
    {
      "cell_type": "code",
      "execution_count": 27,
      "metadata": {
        "id": "3r3_q4CJLkZR"
      },
      "outputs": [],
      "source": [
        "# hdfs:/ if you are saving it on distributed file systems in Hadoop\n",
        "pipelineModel.stages[-1].write().overwrite().save('./tmp_sentimentdl_model')\n",
        "\n"
      ]
    },
    {
      "cell_type": "markdown",
      "metadata": {
        "id": "3JaclNFsQJ-X"
      },
      "source": [
        "Let's use our pre-trained SentimentDLModel in a pipeline: "
      ]
    },
    {
      "cell_type": "code",
      "source": [
        "# Alternative architecture\n",
        "\n",
        "document = DocumentAssembler()\\\n",
        "      .setInputCol(\"description\")\\\n",
        "      .setOutputCol(\"document\")\n",
        "    \n",
        "bert_cmlm = BertSentenceEmbeddings.pretrained('sent_bert_use_cmlm_en_base', 'en')\\\n",
        "      .setInputCols([\"document\"])\\\n",
        "      .setOutputCol(\"sentence_embeddings\")\n",
        "\n",
        "classifierdl = ClassifierDLModel.load(\"./tmp_sentimentdl_model\") \\\n",
        "  .setInputCols([\"sentence_embeddings\"])\\\n",
        "  .setOutputCol(\"class\")\n",
        "\n",
        "bert_cmlm_clf_pipeline = Pipeline(\n",
        "    stages = [\n",
        "        document,\n",
        "        bert_cmlm,\n",
        "        classifierdl\n",
        "    ])"
      ],
      "metadata": {
        "colab": {
          "base_uri": "https://localhost:8080/"
        },
        "id": "-ZzX9wJczGbm",
        "outputId": "71c5864b-960c-405f-c11a-69e3adf013dd"
      },
      "execution_count": 28,
      "outputs": [
        {
          "output_type": "stream",
          "name": "stdout",
          "text": [
            "sent_bert_use_cmlm_en_base download started this may take some time.\n",
            "Approximate size to download 391.6 MB\n",
            "[OK!]\n"
          ]
        }
      ]
    },
    {
      "cell_type": "code",
      "execution_count": 29,
      "metadata": {
        "id": "NTJ53PbYQI-f"
      },
      "outputs": [],
      "source": [
        "# # In a new pipeline you can load it for prediction\n",
        "# document = DocumentAssembler()\\\n",
        "#     .setInputCol(\"text\")\\\n",
        "#     .setOutputCol(\"document\")\n",
        "\n",
        "# use = UniversalSentenceEncoder.pretrained() \\\n",
        "#  .setInputCols([\"document\"])\\\n",
        "#  .setOutputCol(\"sentence_embeddings\")\n",
        "\n",
        "# classifierdl = ClassifierDLModel.load(\"./tmp_sentimentdl_model\") \\\n",
        "#   .setInputCols([\"sentence_embeddings\"])\\\n",
        "#   .setOutputCol(\"class\")\n",
        "\n",
        "# pipeline = Pipeline(\n",
        "#     stages = [\n",
        "#         document,\n",
        "#         use,\n",
        "#         classifierdl\n",
        "#     ])\n"
      ]
    },
    {
      "cell_type": "markdown",
      "metadata": {
        "id": "UoJH3kA7RJpD"
      },
      "source": [
        "# Evaluation \n",
        "\n",
        "Let's evaluatte our SentimentDL model we trained earlier, saved it, and loaded it into a new pipeline by using a test dataset that model has never seen:"
      ]
    },
    {
      "cell_type": "code",
      "source": [
        "# Pretrained model\n",
        "from sparknlp.pretrained import PretrainedPipeline\n",
        "identifier_pretrained =  PretrainedPipeline(\"classifierdl_bertwiki_finance_sentiment_pipeline\", lang='en')"
      ],
      "metadata": {
        "colab": {
          "base_uri": "https://localhost:8080/"
        },
        "id": "8RJp4CSpSI4r",
        "outputId": "c9c9ba9c-fa01-42f6-ea74-c81a8ead4d45"
      },
      "execution_count": 30,
      "outputs": [
        {
          "output_type": "stream",
          "name": "stdout",
          "text": [
            "classifierdl_bertwiki_finance_sentiment_pipeline download started this may take some time.\n",
            "Approx size to download 412.9 MB\n",
            "[OK!]\n"
          ]
        }
      ]
    },
    {
      "cell_type": "code",
      "execution_count": 31,
      "metadata": {
        "id": "_aVPZXgst0-V"
      },
      "outputs": [],
      "source": [
        "testDataset = df_spark_test\n",
        "preds = pipelineModel.transform(testDataset)\n",
        "preds_2 = identifier_pretrained.transform(testDataset)"
      ]
    },
    {
      "cell_type": "code",
      "execution_count": 32,
      "metadata": {
        "colab": {
          "base_uri": "https://localhost:8080/"
        },
        "id": "-H9UAWO_t-b9",
        "outputId": "b95f16d0-5fbd-4456-c3f5-0ed0408a3ca7"
      },
      "outputs": [
        {
          "output_type": "stream",
          "name": "stdout",
          "text": [
            "+--------------+--------------------------------------------------+---------+\n",
            "|True_Sentiment|                                              text|   result|\n",
            "+--------------+--------------------------------------------------+---------+\n",
            "|       neutral|Putin tries to claim Mariupol win but will not ...|[neutral]|\n",
            "|      positive|The Valens Company Secures Agreement for Green ...|[neutral]|\n",
            "|       neutral|Scottish Government plans to attract talent fro...|[neutral]|\n",
            "|       neutral|New technology for e-waste switched on - David ...|[neutral]|\n",
            "|       neutral|Concert Golf Partners Closes New Strategic Inve...|[neutral]|\n",
            "|       neutral|United Airlines loses $1.4B in 1Q, but expects ...|[neutral]|\n",
            "|       neutral|Hong Kong-based private equity firm mulls bid f...|[neutral]|\n",
            "|      positive|Infinera (NASDAQ:INFN) Upgraded to Buy at Zacks...|[neutral]|\n",
            "|       neutral|Man United hires Erik ten Hag as 5th manager in...|[neutral]|\n",
            "|      negative|Bank of N.T. Butterfield & Son (NYSE:NTB) Lower...|[neutral]|\n",
            "|      positive|Salt & Straw Brings a Sweet Treat to Disney Spr...|[neutral]|\n",
            "|       neutral|Chilled air and good vibes? Who doesn't like No...|[neutral]|\n",
            "|      negative|German intel: Known antisemitism cases ‘tip of ...|[neutral]|\n",
            "|      negative|Office Properties Income Trust (NASDAQ:OPI) Dow...|[neutral]|\n",
            "|      negative|US officials heading to Solomons over China pac...|[neutral]|\n",
            "|       neutral|Majority Of Americans Believe Biden Has Not Bee...|[neutral]|\n",
            "|       neutral|Man United hire Erik ten Hag as 5th manager in ...|[neutral]|\n",
            "|      negative|Ambulance crews called to A835 Tore roundabout ...|[neutral]|\n",
            "|      positive|Tesco is selling new Nestle Lotus Biscoff KitKa...|[neutral]|\n",
            "|      negative|The Government has no plan to control inflation...|[neutral]|\n",
            "|       neutral|               Philip Morris: Q1 Earnings Snapshot|[neutral]|\n",
            "|       neutral|Hong Kong Disneyland reopens as Covid cases eas...|[neutral]|\n",
            "|       neutral|Scientists analyse ‘speech’ of elusive Scottish...|[neutral]|\n",
            "|      negative|Two Children Wounded in Roadside Bomb Explosion...|[neutral]|\n",
            "|       neutral|Head-To-Head Analysis: GeoPark (NYSE:GPRK) vs. ...|[neutral]|\n",
            "|       neutral|Alaska Air Group reports first quarter 2022 res...|[neutral]|\n",
            "|       neutral|               Remembering Beaver Area High School|[neutral]|\n",
            "|      negative|Blast hits Shi'ite mosque in northern Afghanist...|[neutral]|\n",
            "|      positive|Liberty Latin America (LILA) Climbs 3.63% on Ap...|[neutral]|\n",
            "|       neutral|      YouTube Gold: Boston vs. Brooklyn Highlights|[neutral]|\n",
            "|       neutral|100U.S. PATIENTS TREATED IN THE SINGLE LEVEL ID...|[neutral]|\n",
            "|      positive|Riley Exploration Permian (NYSE:REPX) Upgraded ...|[neutral]|\n",
            "|       neutral|Adopt 'nation-first' approach to decision makin...|[neutral]|\n",
            "|       neutral|Butler Women’s Basketball Receives a New Head C...|[neutral]|\n",
            "|      positive|Liberty Broadband - Series C (LBRDK) Gains 4.05...|[neutral]|\n",
            "|       neutral|UN chief urges 4-day Easter ‘pause’ in fighting...|[neutral]|\n",
            "|       neutral|Pakistan PM Shehbaz Sharif Orders Foolproof Sec...|[neutral]|\n",
            "|       neutral|AMREP Co. (NYSE:AXR) Director Edward B. Cloues ...|[neutral]|\n",
            "+--------------+--------------------------------------------------+---------+\n",
            "\n",
            "+--------------+--------------------------------------------------+----------+\n",
            "|True_Sentiment|                                              text|    result|\n",
            "+--------------+--------------------------------------------------+----------+\n",
            "|       neutral|Putin tries to claim Mariupol win but will not ...| [neutral]|\n",
            "|      positive|The Valens Company Secures Agreement for Green ...| [neutral]|\n",
            "|       neutral|Scottish Government plans to attract talent fro...| [neutral]|\n",
            "|       neutral|New technology for e-waste switched on - David ...| [neutral]|\n",
            "|       neutral|Concert Golf Partners Closes New Strategic Inve...|[positive]|\n",
            "|       neutral|United Airlines loses $1.4B in 1Q, but expects ...|[positive]|\n",
            "|       neutral|Hong Kong-based private equity firm mulls bid f...| [neutral]|\n",
            "|      positive|Infinera (NASDAQ:INFN) Upgraded to Buy at Zacks...|[positive]|\n",
            "|       neutral|Man United hires Erik ten Hag as 5th manager in...| [neutral]|\n",
            "|      negative|Bank of N.T. Butterfield & Son (NYSE:NTB) Lower...|[negative]|\n",
            "|      positive|Salt & Straw Brings a Sweet Treat to Disney Spr...|[positive]|\n",
            "|       neutral|Chilled air and good vibes? Who doesn't like No...| [neutral]|\n",
            "|      negative|German intel: Known antisemitism cases ‘tip of ...| [neutral]|\n",
            "|      negative|Office Properties Income Trust (NASDAQ:OPI) Dow...| [neutral]|\n",
            "|      negative|US officials heading to Solomons over China pac...| [neutral]|\n",
            "|       neutral|Majority Of Americans Believe Biden Has Not Bee...| [neutral]|\n",
            "|       neutral|Man United hire Erik ten Hag as 5th manager in ...| [neutral]|\n",
            "|      negative|Ambulance crews called to A835 Tore roundabout ...| [neutral]|\n",
            "|      positive|Tesco is selling new Nestle Lotus Biscoff KitKa...| [neutral]|\n",
            "|      negative|The Government has no plan to control inflation...| [neutral]|\n",
            "|       neutral|               Philip Morris: Q1 Earnings Snapshot| [neutral]|\n",
            "|       neutral|Hong Kong Disneyland reopens as Covid cases eas...|[positive]|\n",
            "|       neutral|Scientists analyse ‘speech’ of elusive Scottish...| [neutral]|\n",
            "|      negative|Two Children Wounded in Roadside Bomb Explosion...|[negative]|\n",
            "|       neutral|Head-To-Head Analysis: GeoPark (NYSE:GPRK) vs. ...| [neutral]|\n",
            "|       neutral|Alaska Air Group reports first quarter 2022 res...| [neutral]|\n",
            "|       neutral|               Remembering Beaver Area High School| [neutral]|\n",
            "|      negative|Blast hits Shi'ite mosque in northern Afghanist...| [neutral]|\n",
            "|      positive|Liberty Latin America (LILA) Climbs 3.63% on Ap...|[positive]|\n",
            "|       neutral|      YouTube Gold: Boston vs. Brooklyn Highlights| [neutral]|\n",
            "|       neutral|100U.S. PATIENTS TREATED IN THE SINGLE LEVEL ID...| [neutral]|\n",
            "|      positive|Riley Exploration Permian (NYSE:REPX) Upgraded ...| [neutral]|\n",
            "|       neutral|Adopt 'nation-first' approach to decision makin...| [neutral]|\n",
            "|       neutral|Butler Women’s Basketball Receives a New Head C...| [neutral]|\n",
            "|      positive|Liberty Broadband - Series C (LBRDK) Gains 4.05...|[positive]|\n",
            "|       neutral|UN chief urges 4-day Easter ‘pause’ in fighting...| [neutral]|\n",
            "|       neutral|Pakistan PM Shehbaz Sharif Orders Foolproof Sec...|[negative]|\n",
            "|       neutral|AMREP Co. (NYSE:AXR) Director Edward B. Cloues ...| [neutral]|\n",
            "+--------------+--------------------------------------------------+----------+\n",
            "\n"
          ]
        }
      ],
      "source": [
        "preds.select('True_Sentiment','text',\"class.result\").show(50, truncate=50)\n",
        "preds_2.select('True_Sentiment','text',\"class.result\").show(50, truncate=50)"
      ]
    },
    {
      "cell_type": "code",
      "execution_count": 33,
      "metadata": {
        "id": "8-JF5_Y9uPFj"
      },
      "outputs": [],
      "source": [
        "preds_df = preds.select('True_Sentiment','text',\"class.result\").toPandas()\n",
        "preds_df_2 = preds_2.select('True_Sentiment','text',\"class.result\").toPandas()"
      ]
    },
    {
      "cell_type": "code",
      "execution_count": 34,
      "metadata": {
        "id": "CS2q_OajuZyO"
      },
      "outputs": [],
      "source": [
        "# The result is an array since in Spark NLP you can have multiple sentences.\n",
        "# This means you can add SentenceDetector in the pipeline and feed it into\n",
        "# UniversalSentenceEncoder and you can have prediction based on each sentence.\n",
        "# Let's explode the array and get the item(s) inside of result column out\n",
        "preds_df['result'] = preds_df['result'].apply(lambda x : x[0])\n",
        "preds_df_2['result'] = preds_df_2['result'].apply(lambda x : x[0])"
      ]
    },
    {
      "cell_type": "code",
      "execution_count": 35,
      "metadata": {
        "id": "naAHGWV5ugNX"
      },
      "outputs": [],
      "source": [
        "# We are going to use sklearn to evalute the results on test dataset\n",
        "from sklearn.metrics import classification_report"
      ]
    },
    {
      "cell_type": "markdown",
      "metadata": {
        "id": "o2BiHF_sR3Cz"
      },
      "source": [
        "Let's use `classification_report` from `sklearn` to evaluate the final scores. (keep in mind due to limited resources on a free Google Colab we only used 5 Epochs :)"
      ]
    },
    {
      "cell_type": "code",
      "execution_count": 36,
      "metadata": {
        "colab": {
          "base_uri": "https://localhost:8080/"
        },
        "id": "kLeO9u1bunPB",
        "outputId": "6e644f64-cb01-44b7-ce5b-ecf7debbdc8f"
      },
      "outputs": [
        {
          "output_type": "stream",
          "name": "stdout",
          "text": [
            "              precision    recall  f1-score   support\n",
            "\n",
            "    negative       0.00      0.00      0.00         8\n",
            "     neutral       0.61      1.00      0.75        23\n",
            "    positive       0.00      0.00      0.00         7\n",
            "\n",
            "    accuracy                           0.61        38\n",
            "   macro avg       0.20      0.33      0.25        38\n",
            "weighted avg       0.37      0.61      0.46        38\n",
            "\n"
          ]
        },
        {
          "output_type": "stream",
          "name": "stderr",
          "text": [
            "/usr/local/lib/python3.7/dist-packages/sklearn/metrics/_classification.py:1318: UndefinedMetricWarning: Precision and F-score are ill-defined and being set to 0.0 in labels with no predicted samples. Use `zero_division` parameter to control this behavior.\n",
            "  _warn_prf(average, modifier, msg_start, len(result))\n",
            "/usr/local/lib/python3.7/dist-packages/sklearn/metrics/_classification.py:1318: UndefinedMetricWarning: Precision and F-score are ill-defined and being set to 0.0 in labels with no predicted samples. Use `zero_division` parameter to control this behavior.\n",
            "  _warn_prf(average, modifier, msg_start, len(result))\n",
            "/usr/local/lib/python3.7/dist-packages/sklearn/metrics/_classification.py:1318: UndefinedMetricWarning: Precision and F-score are ill-defined and being set to 0.0 in labels with no predicted samples. Use `zero_division` parameter to control this behavior.\n",
            "  _warn_prf(average, modifier, msg_start, len(result))\n"
          ]
        }
      ],
      "source": [
        "print (classification_report(preds_df['True_Sentiment'], preds_df['result'] ))"
      ]
    },
    {
      "cell_type": "code",
      "source": [
        "print (classification_report(preds_df_2['True_Sentiment'], preds_df_2['result'] ))"
      ],
      "metadata": {
        "colab": {
          "base_uri": "https://localhost:8080/"
        },
        "id": "dvsQXmAxSmKU",
        "outputId": "a40f1bda-1d22-4546-f67a-b7e579d34508"
      },
      "execution_count": 37,
      "outputs": [
        {
          "output_type": "stream",
          "name": "stdout",
          "text": [
            "              precision    recall  f1-score   support\n",
            "\n",
            "    negative       0.67      0.25      0.36         8\n",
            "     neutral       0.68      0.83      0.75        23\n",
            "    positive       0.57      0.57      0.57         7\n",
            "\n",
            "    accuracy                           0.66        38\n",
            "   macro avg       0.64      0.55      0.56        38\n",
            "weighted avg       0.66      0.66      0.63        38\n",
            "\n"
          ]
        }
      ]
    }
  ],
  "metadata": {
    "colab": {
      "collapsed_sections": [],
      "name": "Train_sentiment_classifier_with_our_data.ipynb",
      "provenance": [],
      "include_colab_link": true
    },
    "kernelspec": {
      "display_name": "Python 3",
      "language": "python",
      "name": "python3"
    },
    "language_info": {
      "codemirror_mode": {
        "name": "ipython",
        "version": 3
      },
      "file_extension": ".py",
      "mimetype": "text/x-python",
      "name": "python",
      "nbconvert_exporter": "python",
      "pygments_lexer": "ipython3",
      "version": "3.6.9"
    },
    "nteract": {
      "version": "0.21.0"
    },
    "accelerator": "GPU"
  },
  "nbformat": 4,
  "nbformat_minor": 0
}