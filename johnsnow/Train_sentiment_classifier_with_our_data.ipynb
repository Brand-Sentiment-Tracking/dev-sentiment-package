{
  "cells": [
    {
      "cell_type": "markdown",
      "metadata": {
        "id": "view-in-github",
        "colab_type": "text"
      },
      "source": [
        "<a href=\"https://colab.research.google.com/github/Brand-Sentiment-Tracking/dev-sentiment-package/blob/main/johnsnow/Train_sentiment_classifier_with_our_data.ipynb\" target=\"_parent\"><img src=\"https://colab.research.google.com/assets/colab-badge.svg\" alt=\"Open In Colab\"/></a>"
      ]
    },
    {
      "cell_type": "markdown",
      "metadata": {
        "id": "ph3bDypIEXdd"
      },
      "source": [
        "![JohnSnowLabs](https://nlp.johnsnowlabs.com/assets/images/logo.png)"
      ]
    },
    {
      "cell_type": "markdown",
      "metadata": {
        "id": "aaVmDt1TEXdh"
      },
      "source": [
        "# Spark NLP\n",
        "### Multi-class Sentiment Classification\n",
        "#### By using SentimentDL"
      ]
    },
    {
      "cell_type": "markdown",
      "metadata": {
        "id": "jmo3o-b3MF5W"
      },
      "source": [
        "[![Open In Colab](https://colab.research.google.com/assets/colab-badge.svg)](https://colab.research.google.com/github/JohnSnowLabs/spark-nlp-workshop/blob/master/jupyter/training/english/classification/SentimentDL_train_multiclass_sentiment_classifier.ipynb)"
      ]
    },
    {
      "cell_type": "markdown",
      "metadata": {
        "id": "h4fQwZ46x4fu"
      },
      "source": [
        "Only run this block if you are inside Google Colab otherwise skip it"
      ]
    },
    {
      "cell_type": "code",
      "execution_count": 55,
      "metadata": {
        "colab": {
          "base_uri": "https://localhost:8080/"
        },
        "id": "MzishpT-MF5X",
        "outputId": "4a127899-c94f-4ec1-c1ef-b2a5d71562dc"
      },
      "outputs": [
        {
          "output_type": "stream",
          "name": "stdout",
          "text": [
            "--2022-04-28 12:40:06--  http://setup.johnsnowlabs.com/colab.sh\n",
            "Resolving setup.johnsnowlabs.com (setup.johnsnowlabs.com)... 51.158.130.125\n",
            "Connecting to setup.johnsnowlabs.com (setup.johnsnowlabs.com)|51.158.130.125|:80... connected.\n",
            "HTTP request sent, awaiting response... 302 Found\n",
            "Location: https://setup.johnsnowlabs.com/colab.sh [following]\n",
            "--2022-04-28 12:40:07--  https://setup.johnsnowlabs.com/colab.sh\n",
            "Connecting to setup.johnsnowlabs.com (setup.johnsnowlabs.com)|51.158.130.125|:443... connected.\n",
            "HTTP request sent, awaiting response... 302 Moved Temporarily\n",
            "Location: https://raw.githubusercontent.com/JohnSnowLabs/spark-nlp/master/scripts/colab_setup.sh [following]\n",
            "--2022-04-28 12:40:08--  https://raw.githubusercontent.com/JohnSnowLabs/spark-nlp/master/scripts/colab_setup.sh\n",
            "Resolving raw.githubusercontent.com (raw.githubusercontent.com)... 185.199.110.133, 185.199.109.133, 185.199.108.133, ...\n",
            "Connecting to raw.githubusercontent.com (raw.githubusercontent.com)|185.199.110.133|:443... connected.\n",
            "HTTP request sent, awaiting response... 200 OK\n",
            "Length: 1453 (1.4K) [text/plain]\n",
            "Saving to: ‘STDOUT’\n",
            "\n",
            "-                   100%[===================>]   1.42K  --.-KB/s    in 0s      \n",
            "\n",
            "2022-04-28 12:40:08 (25.8 MB/s) - written to stdout [1453/1453]\n",
            "\n",
            "setup Colab for PySpark 3.0.3 and Spark NLP 3.4.3\n",
            "Installing PySpark 3.0.3 and Spark NLP 3.4.3\n"
          ]
        }
      ],
      "source": [
        "# This is only to setup PySpark and Spark NLP on Colab\n",
        "!wget http://setup.johnsnowlabs.com/colab.sh -O - | bash\n",
        "from sklearn.metrics import classification_report"
      ]
    },
    {
      "cell_type": "code",
      "execution_count": 56,
      "metadata": {
        "colab": {
          "base_uri": "https://localhost:8080/"
        },
        "id": "Hmvv5Q4jMF5b",
        "outputId": "f7860517-7c74-4160-8b0f-dd06693ed1ae"
      },
      "outputs": [
        {
          "output_type": "stream",
          "name": "stdout",
          "text": [
            "Spark NLP version:  3.4.3\n",
            "Apache Spark version 3.0.3\n"
          ]
        }
      ],
      "source": [
        "import sparknlp\n",
        "\n",
        "spark = sparknlp.start(gpu=True)\n",
        "\n",
        "print(\"Spark NLP version: \", sparknlp.version())\n",
        "print(\"Apache Spark version\", spark.version)"
      ]
    },
    {
      "cell_type": "markdown",
      "source": [
        "### Load political dataset"
      ],
      "metadata": {
        "id": "YFP74juaxxZN"
      }
    },
    {
      "cell_type": "code",
      "source": [
        "# Convert Kaggle data to Pandas dataframe and preprocess\n",
        "import pandas as pd\n",
        "from pyspark.sql.functions import rand \n",
        "from sklearn.model_selection import train_test_split\n",
        "\n",
        "sentiment_url_1 = 'https://raw.githubusercontent.com/Brand-Sentiment-Tracking/python-package/main/data/sentiment_test_data.csv' # Financial Phrase Bank\n",
        "sentiment_url_2 = 'https://raw.githubusercontent.com/Brand-Sentiment-Tracking/python-package/main/data/SEN_en_R.csv' # SEN data\n",
        "sentiment_url_3 = 'https://raw.githubusercontent.com/Brand-Sentiment-Tracking/dev-sentiment-package/main/data/labelled_1.csv' # owr extracted data\n",
        "\n",
        "\n",
        "\n",
        "# # Create a preprocessed spark dataframe\n",
        "# from pyspark import SparkFiles\n",
        "# spark.sparkContext.addFile(sentiment_url_3)\n",
        "\n",
        "# # Read financial dataframe\n",
        "# df_spark = spark.read.option(\"header\",\"false\").csv(\"file://\"+SparkFiles.get(\"sentiment_test_data.csv\"))\n",
        "# df_spark = df_spark.withColumnRenamed(\"_c0\", \"label\").withColumnRenamed(\"_c1\", \"text\")\n",
        "# # Shuffle dataset\n",
        "# df_spark = df_spark.orderBy(rand(2))\n",
        "\n",
        "# # Read political dataframe\n",
        "# df_spark = spark.read.option(\"header\",\"true\").csv(\"file://\"+SparkFiles.get(\"SEN_en_R.csv\"))\n",
        "# df_spark = df_spark.withColumnRenamed(\"_c0\", \"idx\").withColumnRenamed(\"headline\", \"text\") \\\n",
        "#                                                  .withColumnRenamed(\"majority_label\", 'label')\n",
        "# # Replace abbreviations with full lables and filter the unk datapoints (applies only to political dataset)                                         \n",
        "# df_spark = df_spark.replace(\"neutr\", \"neutral\").replace(\"pos\", \"positive\").replace(\"neg\",\"negative\")\n",
        "# df_spark = df_spark[df_spark.label != \"unk\"]\n",
        "\n",
        "# # Read our own dataframe\n",
        "\n",
        "cols_to_read = ['text',\"sentiment (Max's take)\"]\n",
        "df_pandas = pd.read_csv(sentiment_url_3, usecols=cols_to_read)\n",
        "\n",
        "# Rename sentiment to True_Sentiment\n",
        "df_pandas.rename(columns={\"sentiment (Max's take)\":\"True_Sentiment\"},inplace=True)\n",
        "\n",
        "# # Make dataset smaller for faster runtime\n",
        "num_sentences = 500\n",
        "total_num_sentences = df_pandas.shape[0]\n",
        "df_pandas.drop(df_pandas.index[num_sentences:total_num_sentences], inplace=True)\n",
        "\n",
        "# Replace 1, 2 , 3 with negative, neutral, positive\n",
        "df_pandas[\"True_Sentiment\"].replace({1.0: \"negative\", 2.0: \"neutral\", 3.0: \"positive\"}, inplace=True)\n"
      ],
      "metadata": {
        "id": "bvV3IUsgx0Ys"
      },
      "execution_count": 57,
      "outputs": []
    },
    {
      "cell_type": "code",
      "source": [
        "# Downsample majority class neutral\n",
        "negative_points = df_pandas[df_pandas[\"True_Sentiment\"] == 'negative'].head(65)\n",
        "neutral_points = df_pandas[df_pandas[\"True_Sentiment\"] == 'neutral'].head(115)\n",
        "positive_points = df_pandas[df_pandas[\"True_Sentiment\"] == 'positive'].head(50)\n",
        "\n",
        "print(len(neutral_points))\n",
        "print(len(positive_points))\n",
        "print(len(negative_points))\n",
        "\n",
        "# Split into train and test\n",
        "negative_train, negative_test_and_val = train_test_split(negative_points, test_size = 0.3) # split negative points into 70% training 30% test+val\n",
        "negative_test, negative_val = train_test_split(negative_test_and_val, test_size = 0.5) # split into half test = 15% and half val = 15%\n",
        "\n",
        "neutral_train, neutral_test_and_val = train_test_split(neutral_points, test_size = 0.3) # split negative points into 70% training 30% test+val\n",
        "neutral_test, neutral_val = train_test_split(neutral_test_and_val, test_size = 0.5) # split into half test = 15% and half val = 15%\n",
        "\n",
        "positive_train, positive_test_and_val = train_test_split(positive_points, test_size = 0.3) # split negative points into 70% training 30% test+val\n",
        "positive_test, positive_val = train_test_split(positive_test_and_val, test_size = 0.5) # split into half test = 15% and half val = 15%\n",
        "\n",
        "\n",
        "# Concatenate into training testing and validation datasets and shuffle\n",
        "df_pandas_train = pd.concat([negative_train, neutral_train, positive_train]).sample(frac=1, random_state = 0)\n",
        "df_pandas_test = pd.concat([negative_test, neutral_test, positive_test]).sample(frac=1, random_state = 0)\n",
        "df_pandas_val = pd.concat([negative_val, neutral_val, positive_val]).sample(frac=1, random_state = 0)\n",
        "\n",
        "\n",
        "# # Convert to spark dataframe  \n",
        "df_spark_train = spark.createDataFrame(df_pandas_train)\n",
        "df_spark_test = spark.createDataFrame(df_pandas_test)\n",
        "df_spark_val = spark.createDataFrame(df_pandas_val)\n",
        "\n",
        "df_spark_train.show()\n",
        "\n",
        "# Check that the training dataset is balanced \n",
        "print(df_spark_train[df_spark_train.True_Sentiment == \"neutral\"].count())\n",
        "print(df_spark_train[df_spark_train.True_Sentiment == \"negative\"].count())\n",
        "print(df_spark_train[df_spark_train.True_Sentiment == \"positive\"].count())"
      ],
      "metadata": {
        "colab": {
          "base_uri": "https://localhost:8080/"
        },
        "id": "71zmgKX3GGzU",
        "outputId": "d7fdbea3-1491-4d92-fe8a-4e829e4bb000"
      },
      "execution_count": 58,
      "outputs": [
        {
          "output_type": "stream",
          "name": "stdout",
          "text": [
            "115\n",
            "50\n",
            "65\n",
            "+--------------------+--------------+\n",
            "|                text|True_Sentiment|\n",
            "+--------------------+--------------+\n",
            "|Majority Of Ameri...|       neutral|\n",
            "|Serena Williams, ...|       neutral|\n",
            "|UN: Yemen’s Houth...|      positive|\n",
            "|IPL 2022: It's Hi...|      negative|\n",
            "|Bakery owner accu...|      negative|\n",
            "|Russia pours in m...|       neutral|\n",
            "|Remembering Bedfo...|       neutral|\n",
            "|The Daily Ripple-...|       neutral|\n",
            "|Sigma Planning Co...|       neutral|\n",
            "|Sigma Planning Co...|       neutral|\n",
            "|Bunzl (LON:BNZL) ...|      positive|\n",
            "|Kentucky abortion...|       neutral|\n",
            "|This Earth Day, B...|      negative|\n",
            "|Access controls b...|      positive|\n",
            "|CA WFO LOS ANGELE...|       neutral|\n",
            "|WELL Health to Pr...|       neutral|\n",
            "|Hong Kong Disneyl...|       neutral|\n",
            "|Snapdragon 888 vs...|       neutral|\n",
            "|Indian shares see...|      positive|\n",
            "|AMREP Co. (NYSE:A...|       neutral|\n",
            "+--------------------+--------------+\n",
            "only showing top 20 rows\n",
            "\n",
            "80\n",
            "45\n",
            "35\n"
          ]
        }
      ]
    },
    {
      "cell_type": "code",
      "source": [
        "# # Split into train and test\n",
        "# df_spark_train = df_spark.limit(round(df_spark.count()*0.7)) # 70% train\n",
        "# df_spark_test_and_val = df_spark.exceptAll(df_spark_train) # 30% test + val\n",
        "# df_spark_test = df_spark_test_and_val.limit(round(df_spark_test_and_val.count()*0.5)) # Take half for testing  = 15%\n",
        "# df_spark_val = df_spark_test_and_val.exceptAll(df_spark_test) # and half for validation = 15%\n",
        "\n",
        "# # Show the training set\n",
        "# print(f\"Number of training points: {df_spark_train.count()}\")\n",
        "# print(f\"Number of testing points: {df_spark_test.count()}\")\n",
        "# print(f\"Number of validation points: {df_spark_val.count()}\")\n",
        "# df_spark_train.show()"
      ],
      "metadata": {
        "id": "b4f9NPIwIMgB"
      },
      "execution_count": 59,
      "outputs": []
    },
    {
      "cell_type": "code",
      "execution_count": 60,
      "metadata": {
        "id": "0oKvNZaEMF5q"
      },
      "outputs": [],
      "source": [
        "from pyspark.ml import Pipeline\n",
        "\n",
        "from sparknlp.annotator import *\n",
        "from sparknlp.common import *\n",
        "from sparknlp.base import *"
      ]
    },
    {
      "cell_type": "code",
      "source": [
        "# Alternative architecture\n",
        "\n",
        "document = DocumentAssembler()\\\n",
        "      .setInputCol(\"text\")\\\n",
        "      .setOutputCol(\"document\")\n",
        "    \n",
        "bert_cmlm = BertSentenceEmbeddings.pretrained('sent_bert_use_cmlm_en_base', 'en')\\\n",
        "      .setInputCols([\"document\"])\\\n",
        "      .setOutputCol(\"sentence_embeddings\")\n",
        "\n",
        "classifierdl = ClassifierDLApproach()\\\n",
        "      .setInputCols([\"sentence_embeddings\"])\\\n",
        "      .setOutputCol(\"class\")\\\n",
        "      .setLabelColumn(\"True_Sentiment\")\\\n",
        "      .setMaxEpochs(9)\\\n",
        "      .setEnableOutputLogs(True)\\\n",
        "      .setLr(0.005)\\\n",
        "      .setBatchSize(10)\n",
        "\n",
        "bert_cmlm_clf_pipeline = Pipeline(\n",
        "    stages = [\n",
        "        document,\n",
        "        bert_cmlm,\n",
        "        classifierdl\n",
        "    ])"
      ],
      "metadata": {
        "colab": {
          "base_uri": "https://localhost:8080/"
        },
        "id": "Z1_UCdPXyQAS",
        "outputId": "544829d4-a54e-42ee-a9ed-39171b14115e"
      },
      "execution_count": 101,
      "outputs": [
        {
          "output_type": "stream",
          "name": "stdout",
          "text": [
            "sent_bert_use_cmlm_en_base download started this may take some time.\n",
            "Approximate size to download 391.6 MB\n",
            "[OK!]\n"
          ]
        }
      ]
    },
    {
      "cell_type": "code",
      "execution_count": 102,
      "metadata": {
        "id": "kia7NpRJMF5v"
      },
      "outputs": [],
      "source": [
        "# Fit to the training dataset (train the model)\n",
        "pipelineModel = bert_cmlm_clf_pipeline.fit(df_spark_train)"
      ]
    },
    {
      "cell_type": "markdown",
      "metadata": {
        "id": "zMLuwQSCB05e"
      },
      "source": [
        "# How to use already trained SentimentDL pipeline or its model\n",
        "\n",
        "We have two ways of using what we already trained: pipeline or model.\n",
        "\n",
        "Let's see how we can save the entire pipeline, load it, and do some prediction with that pre-trained pipeline."
      ]
    },
    {
      "cell_type": "markdown",
      "metadata": {
        "id": "4I7COUCPCPe3"
      },
      "source": [
        "## Save and load pre-trained SentimentDL pipeline"
      ]
    },
    {
      "cell_type": "code",
      "execution_count": 103,
      "metadata": {
        "id": "QTDQ3riLD-zW"
      },
      "outputs": [],
      "source": [
        "# Google Colab is free so it comes with a little memory. \n",
        "# It's not possible to save and load in this notebook. But you can do this locally or in a decent machine!\n",
        "\n",
        "# pipelineModel.save(\"./sentimentdl_pipeline\")\n",
        "# loadedPipeline = PipelineModel.load(\"./sentimentdl_pipeline\")\n",
        "# loadedPipeline.transform(YOUR_DATAFRAME)"
      ]
    },
    {
      "cell_type": "markdown",
      "metadata": {
        "id": "TI9JR8AoLbW3"
      },
      "source": [
        "# Save and load pre-trained SentimentDL model"
      ]
    },
    {
      "cell_type": "code",
      "execution_count": 104,
      "metadata": {
        "id": "3r3_q4CJLkZR"
      },
      "outputs": [],
      "source": [
        "# hdfs:/ if you are saving it on distributed file systems in Hadoop\n",
        "pipelineModel.stages[-1].write().overwrite().save('./tmp_sentimentdl_model')"
      ]
    },
    {
      "cell_type": "markdown",
      "metadata": {
        "id": "3JaclNFsQJ-X"
      },
      "source": [
        "Let's use our pre-trained SentimentDLModel in a pipeline: "
      ]
    },
    {
      "cell_type": "code",
      "source": [
        "load = False\n",
        "if load == True:\n",
        "    # Alternative architecture\n",
        "    document = DocumentAssembler()\\\n",
        "          .setInputCol(\"description\")\\\n",
        "          .setOutputCol(\"document\")\n",
        "        \n",
        "    bert_cmlm = BertSentenceEmbeddings.pretrained('sent_bert_use_cmlm_en_base', 'en')\\\n",
        "          .setInputCols([\"document\"])\\\n",
        "          .setOutputCol(\"sentence_embeddings\")\n",
        "\n",
        "    classifierdl = ClassifierDLModel.load(\"./tmp_sentimentdl_model\") \\\n",
        "      .setInputCols([\"sentence_embeddings\"])\\\n",
        "      .setOutputCol(\"class\")\n",
        "\n",
        "    bert_cmlm_clf_pipeline = Pipeline(\n",
        "        stages = [\n",
        "            document,\n",
        "            bert_cmlm,\n",
        "            classifierdl\n",
        "        ])\n",
        "    \n",
        "else:\n",
        "    bert_cmlm_clf_pipeline = pipelineModel"
      ],
      "metadata": {
        "id": "-ZzX9wJczGbm"
      },
      "execution_count": 105,
      "outputs": []
    },
    {
      "cell_type": "markdown",
      "source": [
        "### Validate"
      ],
      "metadata": {
        "id": "vup7m5GI_zKo"
      }
    },
    {
      "cell_type": "code",
      "source": [
        "preds_val = pipelineModel.transform(df_spark_val)\n",
        "preds_df_val = preds_val.select('True_Sentiment','text',\"class.result\").toPandas()\n",
        "preds_df_val['result'] = preds_df_val['result'].apply(lambda x : x[0])\n",
        "print (classification_report(preds_df_val['True_Sentiment'], preds_df_val['result'] ))"
      ],
      "metadata": {
        "colab": {
          "base_uri": "https://localhost:8080/"
        },
        "id": "uOTa1Ja9_1C9",
        "outputId": "5da75265-075c-4cc5-d7a7-ad07e330e023"
      },
      "execution_count": 106,
      "outputs": [
        {
          "output_type": "stream",
          "name": "stdout",
          "text": [
            "              precision    recall  f1-score   support\n",
            "\n",
            "    negative       0.62      0.80      0.70        10\n",
            "     neutral       0.57      0.72      0.63        18\n",
            "    positive       0.00      0.00      0.00         8\n",
            "\n",
            "    accuracy                           0.58        36\n",
            "   macro avg       0.39      0.51      0.44        36\n",
            "weighted avg       0.45      0.58      0.51        36\n",
            "\n"
          ]
        },
        {
          "output_type": "stream",
          "name": "stderr",
          "text": [
            "/usr/local/lib/python3.7/dist-packages/sklearn/metrics/_classification.py:1318: UndefinedMetricWarning: Precision and F-score are ill-defined and being set to 0.0 in labels with no predicted samples. Use `zero_division` parameter to control this behavior.\n",
            "  _warn_prf(average, modifier, msg_start, len(result))\n",
            "/usr/local/lib/python3.7/dist-packages/sklearn/metrics/_classification.py:1318: UndefinedMetricWarning: Precision and F-score are ill-defined and being set to 0.0 in labels with no predicted samples. Use `zero_division` parameter to control this behavior.\n",
            "  _warn_prf(average, modifier, msg_start, len(result))\n",
            "/usr/local/lib/python3.7/dist-packages/sklearn/metrics/_classification.py:1318: UndefinedMetricWarning: Precision and F-score are ill-defined and being set to 0.0 in labels with no predicted samples. Use `zero_division` parameter to control this behavior.\n",
            "  _warn_prf(average, modifier, msg_start, len(result))\n"
          ]
        }
      ]
    },
    {
      "cell_type": "markdown",
      "metadata": {
        "id": "UoJH3kA7RJpD"
      },
      "source": [
        "# Evaluation \n",
        "\n",
        "Let's evaluate our ClassifierDL model we trained earlier, saved it, and loaded it into a new pipeline by using a test dataset that model has never seen:"
      ]
    },
    {
      "cell_type": "code",
      "source": [
        "# Pretrained model\n",
        "from sparknlp.pretrained import PretrainedPipeline\n",
        "identifier_pretrained =  PretrainedPipeline(\"classifierdl_bertwiki_finance_sentiment_pipeline\", lang='en')"
      ],
      "metadata": {
        "colab": {
          "base_uri": "https://localhost:8080/"
        },
        "id": "8RJp4CSpSI4r",
        "outputId": "ea8ce47a-3e17-4b43-e3d0-9a1c27606a0a"
      },
      "execution_count": 107,
      "outputs": [
        {
          "output_type": "stream",
          "name": "stdout",
          "text": [
            "classifierdl_bertwiki_finance_sentiment_pipeline download started this may take some time.\n",
            "Approx size to download 412.9 MB\n",
            "[OK!]\n"
          ]
        }
      ]
    },
    {
      "cell_type": "code",
      "execution_count": 108,
      "metadata": {
        "id": "_aVPZXgst0-V"
      },
      "outputs": [],
      "source": [
        "preds = pipelineModel.transform(df_spark_test)\n",
        "preds_2 = identifier_pretrained.transform(df_spark_test)"
      ]
    },
    {
      "cell_type": "code",
      "execution_count": 109,
      "metadata": {
        "colab": {
          "base_uri": "https://localhost:8080/"
        },
        "id": "-H9UAWO_t-b9",
        "outputId": "764f8a2d-569b-47de-9144-acb552227547"
      },
      "outputs": [
        {
          "output_type": "stream",
          "name": "stdout",
          "text": [
            "+--------------+--------------------------------------------------+----------+\n",
            "|True_Sentiment|                                              text|    result|\n",
            "+--------------+--------------------------------------------------+----------+\n",
            "|       neutral|China's Xi proposes 'global security initiative...| [neutral]|\n",
            "|       neutral|New Jersey's recreational marijuana market open...| [neutral]|\n",
            "|       neutral|       Huntington Bancshares: Q1 Earnings Snapshot| [neutral]|\n",
            "|       neutral|               Remembering Beaver Area High School| [neutral]|\n",
            "|      negative|Ford recalls over 650K trucks; windshield wiper...| [neutral]|\n",
            "|       neutral|Man United hire Erik ten Hag as 5th manager in ...|[negative]|\n",
            "|      positive|Veterans Minister congratulates RSA on 100 year...| [neutral]|\n",
            "|       neutral|              Remembering Beaver Local High School| [neutral]|\n",
            "|       neutral|     Welltower to Participate in Investor Meetings| [neutral]|\n",
            "|      positive|RYU Apparel Brings Customer Care Services In-ho...| [neutral]|\n",
            "|      positive|Liberty Latin America (LILA) Climbs 3.63% on Ap...|[positive]|\n",
            "|       neutral|Snapdragon 695 vs Dimensity 1200: tests and ben...| [neutral]|\n",
            "|       neutral|CGI to release second quarter fiscal 2022 resul...| [neutral]|\n",
            "|      negative|Report: Hunger kills hundreds of kids in Ethiop...|[negative]|\n",
            "|       neutral|BEQUANT lists its first music token, the JAM To...| [neutral]|\n",
            "|      positive|American Airlines Group Inc Q1 Loss Decreases, ...| [neutral]|\n",
            "|      negative|Truck overturns, 10 cows run loose on interstat...|[negative]|\n",
            "|       neutral|SageView Closes $900 Million Capital One Invest...| [neutral]|\n",
            "|      positive|Nova Scotia taxi driver leaves $1.68 million to...| [neutral]|\n",
            "|       neutral|CA WFO LAS VEGAS Warnings, Watches, and Advisories| [neutral]|\n",
            "|      negative|Midday Report: Whole Earth Brands (FREE) Trades...|[negative]|\n",
            "|       neutral|      YouTube Gold: Boston vs. Brooklyn Highlights| [neutral]|\n",
            "|      negative|Sri Lanka police open fire at protesters; 1 dea...|[negative]|\n",
            "|       neutral|CPI figures highlight global economic challenge...| [neutral]|\n",
            "|      negative|UN court: Colombia infringed Nicaragua's rights...| [neutral]|\n",
            "|       neutral|UN chief urges 4-day Easter ‘pause’ in fighting...| [neutral]|\n",
            "|       neutral|CA WFO LOS ANGELES Warnings, Watches, and Advis...| [neutral]|\n",
            "|       neutral|ASWA Baseball Rankings: 1 major change in final...| [neutral]|\n",
            "|      negative|US officials heading to Solomons over China pac...| [neutral]|\n",
            "|      negative|Bank of N.T. Butterfield & Son (NYSE:NTB) Lower...|[negative]|\n",
            "|      positive|LA Receives $5 Million From Congress To Improve...| [neutral]|\n",
            "|      positive|Flipkart says new fulfilment centre in Bengal w...|[negative]|\n",
            "|      negative|Mexico’s electricity sector rankled by doubt an...| [neutral]|\n",
            "|      negative|Blast hits Shi'ite mosque in northern Afghanist...|[negative]|\n",
            "+--------------+--------------------------------------------------+----------+\n",
            "\n",
            "+--------------+--------------------------------------------------+----------+\n",
            "|True_Sentiment|                                              text|    result|\n",
            "+--------------+--------------------------------------------------+----------+\n",
            "|       neutral|China's Xi proposes 'global security initiative...| [neutral]|\n",
            "|       neutral|New Jersey's recreational marijuana market open...| [neutral]|\n",
            "|       neutral|       Huntington Bancshares: Q1 Earnings Snapshot| [neutral]|\n",
            "|       neutral|               Remembering Beaver Area High School| [neutral]|\n",
            "|      negative|Ford recalls over 650K trucks; windshield wiper...|[negative]|\n",
            "|       neutral|Man United hire Erik ten Hag as 5th manager in ...| [neutral]|\n",
            "|      positive|Veterans Minister congratulates RSA on 100 year...| [neutral]|\n",
            "|       neutral|              Remembering Beaver Local High School| [neutral]|\n",
            "|       neutral|     Welltower to Participate in Investor Meetings| [neutral]|\n",
            "|      positive|RYU Apparel Brings Customer Care Services In-ho...| [neutral]|\n",
            "|      positive|Liberty Latin America (LILA) Climbs 3.63% on Ap...|[positive]|\n",
            "|       neutral|Snapdragon 695 vs Dimensity 1200: tests and ben...| [neutral]|\n",
            "|       neutral|CGI to release second quarter fiscal 2022 resul...| [neutral]|\n",
            "|      negative|Report: Hunger kills hundreds of kids in Ethiop...|[negative]|\n",
            "|       neutral|BEQUANT lists its first music token, the JAM To...| [neutral]|\n",
            "|      positive|American Airlines Group Inc Q1 Loss Decreases, ...|[negative]|\n",
            "|      negative|Truck overturns, 10 cows run loose on interstat...|[negative]|\n",
            "|       neutral|SageView Closes $900 Million Capital One Invest...|[positive]|\n",
            "|      positive|Nova Scotia taxi driver leaves $1.68 million to...| [neutral]|\n",
            "|       neutral|CA WFO LAS VEGAS Warnings, Watches, and Advisories| [neutral]|\n",
            "|      negative|Midday Report: Whole Earth Brands (FREE) Trades...|[positive]|\n",
            "|       neutral|      YouTube Gold: Boston vs. Brooklyn Highlights| [neutral]|\n",
            "|      negative|Sri Lanka police open fire at protesters; 1 dea...| [neutral]|\n",
            "|       neutral|CPI figures highlight global economic challenge...| [neutral]|\n",
            "|      negative|UN court: Colombia infringed Nicaragua's rights...| [neutral]|\n",
            "|       neutral|UN chief urges 4-day Easter ‘pause’ in fighting...| [neutral]|\n",
            "|       neutral|CA WFO LOS ANGELES Warnings, Watches, and Advis...| [neutral]|\n",
            "|       neutral|ASWA Baseball Rankings: 1 major change in final...| [neutral]|\n",
            "|      negative|US officials heading to Solomons over China pac...| [neutral]|\n",
            "|      negative|Bank of N.T. Butterfield & Son (NYSE:NTB) Lower...|[negative]|\n",
            "|      positive|LA Receives $5 Million From Congress To Improve...|[positive]|\n",
            "|      positive|Flipkart says new fulfilment centre in Bengal w...|[positive]|\n",
            "|      negative|Mexico’s electricity sector rankled by doubt an...|[negative]|\n",
            "|      negative|Blast hits Shi'ite mosque in northern Afghanist...| [neutral]|\n",
            "+--------------+--------------------------------------------------+----------+\n",
            "\n"
          ]
        }
      ],
      "source": [
        "preds.select('True_Sentiment','text',\"class.result\").show(50, truncate=50)\n",
        "preds_2.select('True_Sentiment','text',\"class.result\").show(50, truncate=50)"
      ]
    },
    {
      "cell_type": "code",
      "execution_count": 110,
      "metadata": {
        "id": "8-JF5_Y9uPFj"
      },
      "outputs": [],
      "source": [
        "preds_df = preds.select('True_Sentiment','text',\"class.result\").toPandas()\n",
        "preds_df_2 = preds_2.select('True_Sentiment','text',\"class.result\").toPandas()"
      ]
    },
    {
      "cell_type": "code",
      "execution_count": 111,
      "metadata": {
        "id": "CS2q_OajuZyO"
      },
      "outputs": [],
      "source": [
        "# The result is an array since in Spark NLP you can have multiple sentences.\n",
        "# This means you can add SentenceDetector in the pipeline and feed it into\n",
        "# UniversalSentenceEncoder and you can have prediction based on each sentence.\n",
        "# Let's explode the array and get the item(s) inside of result column out\n",
        "preds_df['result'] = preds_df['result'].apply(lambda x : x[0])\n",
        "preds_df_2['result'] = preds_df_2['result'].apply(lambda x : x[0])"
      ]
    },
    {
      "cell_type": "markdown",
      "metadata": {
        "id": "o2BiHF_sR3Cz"
      },
      "source": [
        "Let's use `classification_report` from `sklearn` to evaluate the final scores."
      ]
    },
    {
      "cell_type": "code",
      "execution_count": 112,
      "metadata": {
        "colab": {
          "base_uri": "https://localhost:8080/"
        },
        "id": "kLeO9u1bunPB",
        "outputId": "e1a2d8b9-b0f5-42a8-8075-776377b9791c"
      },
      "outputs": [
        {
          "output_type": "stream",
          "name": "stdout",
          "text": [
            "              precision    recall  f1-score   support\n",
            "\n",
            "    negative       0.75      0.60      0.67        10\n",
            "     neutral       0.64      0.94      0.76        17\n",
            "    positive       1.00      0.14      0.25         7\n",
            "\n",
            "    accuracy                           0.68        34\n",
            "   macro avg       0.80      0.56      0.56        34\n",
            "weighted avg       0.75      0.68      0.63        34\n",
            "\n"
          ]
        }
      ],
      "source": [
        "print (classification_report(preds_df['True_Sentiment'], preds_df['result'] ))"
      ]
    },
    {
      "cell_type": "code",
      "source": [
        "print (classification_report(preds_df_2['True_Sentiment'], preds_df_2['result'] ))"
      ],
      "metadata": {
        "colab": {
          "base_uri": "https://localhost:8080/"
        },
        "id": "dvsQXmAxSmKU",
        "outputId": "7c022d78-92e1-44f0-87a9-4454218f0e3a"
      },
      "execution_count": 113,
      "outputs": [
        {
          "output_type": "stream",
          "name": "stdout",
          "text": [
            "              precision    recall  f1-score   support\n",
            "\n",
            "    negative       0.83      0.50      0.62        10\n",
            "     neutral       0.70      0.94      0.80        17\n",
            "    positive       0.60      0.43      0.50         7\n",
            "\n",
            "    accuracy                           0.71        34\n",
            "   macro avg       0.71      0.62      0.64        34\n",
            "weighted avg       0.72      0.71      0.69        34\n",
            "\n"
          ]
        }
      ]
    }
  ],
  "metadata": {
    "colab": {
      "collapsed_sections": [],
      "name": "Train_sentiment_classifier_with_our_data.ipynb",
      "provenance": [],
      "include_colab_link": true
    },
    "kernelspec": {
      "display_name": "Python 3",
      "language": "python",
      "name": "python3"
    },
    "language_info": {
      "codemirror_mode": {
        "name": "ipython",
        "version": 3
      },
      "file_extension": ".py",
      "mimetype": "text/x-python",
      "name": "python",
      "nbconvert_exporter": "python",
      "pygments_lexer": "ipython3",
      "version": "3.6.9"
    },
    "nteract": {
      "version": "0.21.0"
    },
    "accelerator": "GPU"
  },
  "nbformat": 4,
  "nbformat_minor": 0
}