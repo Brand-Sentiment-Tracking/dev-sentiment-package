{
  "cells": [
    {
      "cell_type": "markdown",
      "metadata": {
        "id": "view-in-github",
        "colab_type": "text"
      },
      "source": [
        "<a href=\"https://colab.research.google.com/github/Brand-Sentiment-Tracking/python-package/blob/main/CLASS_FOR_SENTIMENT_DETECTION_USING_SNOW_LABS_PIPELINES.ipynb\" target=\"_parent\"><img src=\"https://colab.research.google.com/assets/colab-badge.svg\" alt=\"Open In Colab\"/></a>"
      ]
    },
    {
      "cell_type": "markdown",
      "metadata": {
        "id": "9oYgZXG4gDt1"
      },
      "source": [
        "# **Class for Sentiment Analysis for News Articles**"
      ]
    },
    {
      "cell_type": "markdown",
      "metadata": {
        "id": "7c9xk47mgkcB"
      },
      "source": [
        "## 1. Colab Setup"
      ]
    },
    {
      "cell_type": "code",
      "execution_count": 55,
      "metadata": {
        "id": "pDySD2IHU9di"
      },
      "outputs": [],
      "source": [
        "# Install PySpark and Spark NLP\n",
        "! pip install -q pyspark==3.1.2 spark-nlp\n",
        "\n",
        "# Install Spark NLP Display lib\n",
        "! pip install --upgrade -q spark-nlp-display"
      ]
    },
    {
      "cell_type": "code",
      "execution_count": 61,
      "metadata": {
        "colab": {
          "base_uri": "https://localhost:8080/"
        },
        "id": "bnOW8Mt7VH97",
        "outputId": "840da609-9f8c-4823-ddb0-8d784bf2c804"
      },
      "outputs": [
        {
          "output_type": "stream",
          "name": "stdout",
          "text": [
            "Spark NLP version:  3.4.0\n",
            "Apache Spark version:  3.1.2\n"
          ]
        }
      ],
      "source": [
        "import sparknlp\n",
        "import pandas as pd\n",
        "from pyspark.ml import Pipeline\n",
        "from pyspark.sql import SparkSession\n",
        "import pyspark.sql.functions as F\n",
        "from tabulate import tabulate\n",
        "import sparknlp\n",
        "from sparknlp.annotator import *\n",
        "from sparknlp.base import *\n",
        "from sparknlp.pretrained import PretrainedPipeline\n",
        "from sparknlp_display import NerVisualizer\n",
        "\n",
        "spark = sparknlp.start()\n",
        "\n",
        "print(\"Spark NLP version: \", sparknlp.version())\n",
        "print(\"Apache Spark version: \", spark.version)"
      ]
    },
    {
      "cell_type": "markdown",
      "source": [
        "# Define a News Article"
      ],
      "metadata": {
        "id": "BDijGosdPGzW"
      }
    },
    {
      "cell_type": "code",
      "source": [
        "article = [ # two strings - headline & article body\n",
        "\"\"\"Google sued in US over 'deceptive' location tracking\"\"\", # headline\n",
        "\"\"\"Google is being sued in the US over accusations it deceived people about how to control location tracking.\n",
        "\n",
        "The legal action refers to a widely reported 2018 revelation turning off one location-tracking setting in its apps was insufficient to fully disable the feature.\n",
        "\n",
        "It accuses Google of using so-called dark patterns, marketing techniques that deliberately confuse.\n",
        "\n",
        "Google said the claims were inaccurate and outdated.\n",
        "\n",
        "'Unfair practices'\n",
        "The legal action was filed in the District of Columbia. Similar ones were also filed in Texas, Indiana and Washington state.\n",
        "\n",
        "It refers to an Associated Press revelation turning off Location History when using Google Maps or Search was insufficient - as a separate setting, Web and App Activity, continued to log location and other personal data.\n",
        "\n",
        "The study, with researchers at Princeton University, found up to two billion Android and Apple devices could be affected.\n",
        "\n",
        "\"Google has relied on, and continues to rely on, deceptive and unfair practices that make it difficult for users to decline location tracking or to evaluate the data collection and processing to which they are purportedly consenting,\" the legal action alleges.\n",
        "\n",
        "'Robust controls'\n",
        "Google told BBC News the case was based \"on inaccurate claims and outdated assertions about our settings\".\n",
        "\n",
        "A representative added: \"We have always built privacy features into our products and provided robust controls for location data.\n",
        "\n",
        "\"We will vigorously defend ourselves and set the record straight.\"\n",
        "\n",
        "Visual misdirection\n",
        "The legal action claims Google's policies contained other \"misleading, ambiguous and incomplete descriptions... but guarantee that consumers will not understand when their location is collected and retained by Google or for what purposes\".\n",
        "\n",
        "It refers to dark patterns, design choices that alter users' decision-making for the designer's benefit - such as, complicated navigation menus, visual misdirection, confusing wording and repeated nudging towards a particular outcome.\n",
        "\n",
        "Data regulators are increasingly focusing on these practices.\n",
        "\n",
        "Google faces a raft of other legal actions in the US, including:\n",
        "\n",
        "In May 2020, Arizona filed a legal action over the same issue\n",
        "In December 2020, multiple US states sued over the price and process of advertising auctions\n",
        "In October 2020, the US Justice Department alleged Google had a monopoly over search and search advertising\"\"\"]\n",
        "\n"
      ],
      "metadata": {
        "id": "kzD5yHCBTfKL"
      },
      "execution_count": 57,
      "outputs": []
    },
    {
      "cell_type": "markdown",
      "source": [
        "## Define the Brand Identification Class"
      ],
      "metadata": {
        "id": "rmq_-RXkbB1d"
      }
    },
    {
      "cell_type": "code",
      "source": [
        "class BrandIdentification:\n",
        "    def __init__(self, MODEL_NAME, text_list):\n",
        "        self.MODEL_NAME = MODEL_NAME\n",
        "        self.headline = text_list[0]\n",
        "        self.body = text_list[1]\n",
        "\n",
        "        # Define Spark NLP pipeline \n",
        "        documentAssembler = DocumentAssembler() \\\n",
        "            .setInputCol('text') \\\n",
        "            .setOutputCol('document')\n",
        "\n",
        "        tokenizer = Tokenizer() \\\n",
        "            .setInputCols(['document']) \\\n",
        "            .setOutputCol('token')\n",
        "\n",
        "        # ner_dl and onto_100 model are trained with glove_100d, so the embeddings \n",
        "        # in the pipeline should match\n",
        "        if (self.MODEL_NAME == \"ner_dl\") or (self.MODEL_NAME == \"onto_100\"):\n",
        "            embeddings = WordEmbeddingsModel.pretrained('glove_100d') \\\n",
        "                .setInputCols([\"document\", 'token']) \\\n",
        "                .setOutputCol(\"embeddings\")\n",
        "\n",
        "        # Bert model uses Bert embeddings\n",
        "        elif self.MODEL_NAME == \"ner_dl_bert\":\n",
        "            embeddings = BertEmbeddings.pretrained(name='bert_base_cased', lang='en') \\\n",
        "                .setInputCols(['document', 'token']) \\\n",
        "                .setOutputCol('embeddings')\n",
        "\n",
        "        ner_model = NerDLModel.pretrained(MODEL_NAME, 'en') \\\n",
        "            .setInputCols(['document', 'token', 'embeddings']) \\\n",
        "            .setOutputCol('ner')\n",
        "\n",
        "        ner_converter = NerConverter() \\\n",
        "            .setInputCols(['document', 'token', 'ner']) \\\n",
        "            .setOutputCol('ner_chunk')\n",
        "\n",
        "        nlp_pipeline = Pipeline(stages=[\n",
        "            documentAssembler, \n",
        "            tokenizer,\n",
        "            embeddings,\n",
        "            ner_model,\n",
        "            ner_converter\n",
        "        ])\n",
        "        \n",
        "        # Get the pipeline model\n",
        "        empty_df = spark.createDataFrame([['']]).toDF('text')\n",
        "        self.pipeline_model = nlp_pipeline.fit(empty_df)\n",
        "\n",
        "\n",
        "    def predict_by_headline(self):\n",
        "        # Run the pipeline for the headline\n",
        "        text_df_hl = spark.createDataFrame(pd.DataFrame({'text': self.headline}, index = [0]))\n",
        "        self.result_hl = self.pipeline_model.transform(text_df_hl)\n",
        "        \n",
        "        # Tabulate the results\n",
        "        df = self.result_hl.select(F.explode(F.arrays_zip('document.result', 'ner_chunk.result',\"ner_chunk.metadata\")).alias(\"cols\")).select(\\\n",
        "        F.expr(\"cols['1']\").alias(\"chunk\"),\n",
        "        F.expr(\"cols['2'].entity\").alias('result'))\n",
        "        \n",
        "        # Rank the identified ORGs by frequencies\n",
        "        self.ranked_df_hl = df.filter(df.result == 'ORG').groupBy(df.chunk).count().orderBy('count', ascending=False)\n",
        "        \n",
        "        # If only one ORG appears in headline, return it \n",
        "        if self.ranked_df_hl.count() == 1:\n",
        "            return self.ranked_df_hl.first()[0] \n",
        "        else: # If no ORG appears, or multiple ORGs all appear once, return None\n",
        "            return None\n",
        "\n",
        "\n",
        "    def predict(self):\n",
        "        result_by_headline = self.predict_by_headline()\n",
        "\n",
        "        # Use the prediction from headline if we get any\n",
        "        if result_by_headline != None:\n",
        "            return self.predict_by_headline() \n",
        "        else:\n",
        "            # Run the pipeline for the article body\n",
        "            text_df_ar = spark.createDataFrame(pd.DataFrame({'text': self.body}, index = [0]))\n",
        "            self.result = self.pipeline_model.transform(text_df_ar)\n",
        "            \n",
        "            # Tabulate the results\n",
        "            df = self.result.select(F.explode(F.arrays_zip('document.result', 'ner_chunk.result',\"ner_chunk.metadata\")).alias(\"cols\")).select(\\\n",
        "            F.expr(\"cols['1']\").alias(\"chunk\"),\n",
        "            F.expr(\"cols['2'].entity\").alias('result'))\n",
        "            \n",
        "            # Rank the identified ORGs by frequencies\n",
        "            self.ranked_df = df.filter(df.result == 'ORG').groupBy(df.chunk).count().orderBy('count', ascending=False)\n",
        "            \n",
        "            # Return the ORG with highest freq (at least greater than 2)\n",
        "            if self.ranked_df.first()[1] > 2: \n",
        "                return self.ranked_df.first()[0] \n",
        "            else:\n",
        "                return None\n",
        "\n",
        "            # TO DO: break even - consider Wikidata#\n",
        "\n",
        "\n",
        "    def visualise(self, ranked_df, result):\n",
        "        # Visualise the table of freq\n",
        "        ranked_df.show(100, truncate=False)\n",
        "\n",
        "        # Visualise ORG names in text\n",
        "        NerVisualizer().display(\n",
        "            result = result.collect()[0],\n",
        "            label_col = 'ner_chunk',\n",
        "            document_col = 'document',\n",
        "            labels=['ORG']\n",
        "        )\n"
      ],
      "metadata": {
        "id": "5JQeWnV1a8Fh"
      },
      "execution_count": 58,
      "outputs": []
    },
    {
      "cell_type": "markdown",
      "source": [
        "## Define the Senitment Identification Class"
      ],
      "metadata": {
        "id": "-5m65UosNdY5"
      }
    },
    {
      "cell_type": "code",
      "source": [
        "class SentimentIdentification:\n",
        "\n",
        "    def __init__(self, MODEL_NAME):\n",
        "        \"\"\"Creates a class for sentiment identication using specified model.\n",
        "\n",
        "        Args:\n",
        "          MODEL_NAME: Name of the Spark NLP pretrained pipeline.\n",
        "        \"\"\"\n",
        "\n",
        "        # Create the pipeline instance\n",
        "        self.MODEL_NAME = MODEL_NAME\n",
        "        self.pipeline_model = PretrainedPipeline(self.MODEL_NAME, lang = 'en')\n",
        "\n",
        "\n",
        "    def predict(self, text):\n",
        "        \"\"\"Predicts sentiment of the input string..\n",
        "\n",
        "        Args:\n",
        "          text: String to classify.\n",
        "        \"\"\"\n",
        "        self.text = text\n",
        "\n",
        "        # Annotate simple sentence\n",
        "        annotations =  self.pipeline_model.annotate(self.text)\n",
        "        print(f\"{annotations['sentiment']} {annotations['document']}\")"
      ],
      "metadata": {
        "id": "62AefsLpNiTB"
      },
      "execution_count": 59,
      "outputs": []
    },
    {
      "cell_type": "markdown",
      "source": [
        "## 4. Identify Brand in news article\n"
      ],
      "metadata": {
        "id": "MwBY37mRbKjm"
      }
    },
    {
      "cell_type": "code",
      "source": [
        "MODEL_NAME = \"onto_100\"\n",
        "\n",
        "brand = BrandIdentification(MODEL_NAME, article)\n",
        "\n",
        "print(f\"Brand identified by headline: {brand.predict_by_headline()}\")\n",
        "brand.visualise(brand.ranked_df_hl, brand.result_hl)\n",
        "\n",
        "print(f\"Brand identified by the whole article: {brand.predict()}\")\n",
        "brand.visualise(brand.ranked_df, brand.result)"
      ],
      "metadata": {
        "colab": {
          "base_uri": "https://localhost:8080/",
          "height": 1000
        },
        "id": "gUgFEXqubJwk",
        "outputId": "0473ab1e-fe61-40cd-bb48-6a80590fde36"
      },
      "execution_count": 62,
      "outputs": [
        {
          "output_type": "stream",
          "name": "stdout",
          "text": [
            "glove_100d download started this may take some time.\n",
            "Approximate size to download 145.3 MB\n",
            "[OK!]\n",
            "onto_100 download started this may take some time.\n",
            "Approximate size to download 13.5 MB\n",
            "[OK!]\n",
            "Brand identified by headline: None\n",
            "+-----+-----+\n",
            "|chunk|count|\n",
            "+-----+-----+\n",
            "+-----+-----+\n",
            "\n"
          ]
        },
        {
          "output_type": "display_data",
          "data": {
            "text/html": [
              "\n",
              "<style>\n",
              "    @import url('https://fonts.googleapis.com/css2?family=Montserrat:wght@300;400;500;600;700&display=swap');\n",
              "    @import url('https://fonts.googleapis.com/css2?family=Vistol Regular:wght@300;400;500;600;700&display=swap');\n",
              "    \n",
              "    .spark-nlp-display-scroll-entities {\n",
              "        border: 1px solid #E7EDF0;\n",
              "        border-radius: 3px;\n",
              "        text-align: justify;\n",
              "        \n",
              "    }\n",
              "    .spark-nlp-display-scroll-entities span {  \n",
              "        font-size: 14px;\n",
              "        line-height: 24px;\n",
              "        color: #536B76;\n",
              "        font-family: 'Montserrat', sans-serif !important;\n",
              "    }\n",
              "    \n",
              "    .spark-nlp-display-entity-wrapper{\n",
              "    \n",
              "        display: inline-grid;\n",
              "        text-align: center;\n",
              "        border-radius: 4px;\n",
              "        margin: 0 2px 5px 2px;\n",
              "        padding: 1px\n",
              "    }\n",
              "    .spark-nlp-display-entity-name{\n",
              "        font-size: 14px;\n",
              "        line-height: 24px;\n",
              "        font-family: 'Montserrat', sans-serif !important;\n",
              "        \n",
              "        background: #f1f2f3;\n",
              "        border-width: medium;\n",
              "        text-align: center;\n",
              "        \n",
              "        font-weight: 400;\n",
              "        \n",
              "        border-radius: 5px;\n",
              "        padding: 2px 5px;\n",
              "        display: block;\n",
              "        margin: 3px 2px;\n",
              "    \n",
              "    }\n",
              "    .spark-nlp-display-entity-type{\n",
              "        font-size: 14px;\n",
              "        line-height: 24px;\n",
              "        color: #ffffff;\n",
              "        font-family: 'Montserrat', sans-serif !important;\n",
              "        \n",
              "        text-transform: uppercase;\n",
              "        \n",
              "        font-weight: 500;\n",
              "\n",
              "        display: block;\n",
              "        padding: 3px 5px;\n",
              "    }\n",
              "    \n",
              "    .spark-nlp-display-entity-resolution{\n",
              "        font-size: 14px;\n",
              "        line-height: 24px;\n",
              "        color: #ffffff;\n",
              "        font-family: 'Vistol Regular', sans-serif !important;\n",
              "        \n",
              "        text-transform: uppercase;\n",
              "        \n",
              "        font-weight: 500;\n",
              "\n",
              "        display: block;\n",
              "        padding: 3px 5px;\n",
              "    }\n",
              "    \n",
              "    .spark-nlp-display-others{\n",
              "        font-size: 14px;\n",
              "        line-height: 24px;\n",
              "        font-family: 'Montserrat', sans-serif !important;\n",
              "        \n",
              "        font-weight: 400;\n",
              "    }\n",
              "\n",
              "</style>\n",
              " <span class=\"spark-nlp-display-others\" style=\"background-color: white\">Google sued in </span><span class=\"spark-nlp-display-others\" style=\"background-color: white\">US</span><span class=\"spark-nlp-display-others\" style=\"background-color: white\"> over 'deceptive' location tracking</span></div>"
            ],
            "text/plain": [
              "<IPython.core.display.HTML object>"
            ]
          },
          "metadata": {}
        },
        {
          "output_type": "stream",
          "name": "stdout",
          "text": [
            "Brand identified by the whole article: Google\n",
            "+--------------------+-----+\n",
            "|chunk               |count|\n",
            "+--------------------+-----+\n",
            "|Google              |3    |\n",
            "|BBC News            |1    |\n",
            "|Associated Press    |1    |\n",
            "|Princeton University|1    |\n",
            "|Location History    |1    |\n",
            "|Justice Department  |1    |\n",
            "|Apple               |1    |\n",
            "+--------------------+-----+\n",
            "\n"
          ]
        },
        {
          "output_type": "display_data",
          "data": {
            "text/html": [
              "\n",
              "<style>\n",
              "    @import url('https://fonts.googleapis.com/css2?family=Montserrat:wght@300;400;500;600;700&display=swap');\n",
              "    @import url('https://fonts.googleapis.com/css2?family=Vistol Regular:wght@300;400;500;600;700&display=swap');\n",
              "    \n",
              "    .spark-nlp-display-scroll-entities {\n",
              "        border: 1px solid #E7EDF0;\n",
              "        border-radius: 3px;\n",
              "        text-align: justify;\n",
              "        \n",
              "    }\n",
              "    .spark-nlp-display-scroll-entities span {  \n",
              "        font-size: 14px;\n",
              "        line-height: 24px;\n",
              "        color: #536B76;\n",
              "        font-family: 'Montserrat', sans-serif !important;\n",
              "    }\n",
              "    \n",
              "    .spark-nlp-display-entity-wrapper{\n",
              "    \n",
              "        display: inline-grid;\n",
              "        text-align: center;\n",
              "        border-radius: 4px;\n",
              "        margin: 0 2px 5px 2px;\n",
              "        padding: 1px\n",
              "    }\n",
              "    .spark-nlp-display-entity-name{\n",
              "        font-size: 14px;\n",
              "        line-height: 24px;\n",
              "        font-family: 'Montserrat', sans-serif !important;\n",
              "        \n",
              "        background: #f1f2f3;\n",
              "        border-width: medium;\n",
              "        text-align: center;\n",
              "        \n",
              "        font-weight: 400;\n",
              "        \n",
              "        border-radius: 5px;\n",
              "        padding: 2px 5px;\n",
              "        display: block;\n",
              "        margin: 3px 2px;\n",
              "    \n",
              "    }\n",
              "    .spark-nlp-display-entity-type{\n",
              "        font-size: 14px;\n",
              "        line-height: 24px;\n",
              "        color: #ffffff;\n",
              "        font-family: 'Montserrat', sans-serif !important;\n",
              "        \n",
              "        text-transform: uppercase;\n",
              "        \n",
              "        font-weight: 500;\n",
              "\n",
              "        display: block;\n",
              "        padding: 3px 5px;\n",
              "    }\n",
              "    \n",
              "    .spark-nlp-display-entity-resolution{\n",
              "        font-size: 14px;\n",
              "        line-height: 24px;\n",
              "        color: #ffffff;\n",
              "        font-family: 'Vistol Regular', sans-serif !important;\n",
              "        \n",
              "        text-transform: uppercase;\n",
              "        \n",
              "        font-weight: 500;\n",
              "\n",
              "        display: block;\n",
              "        padding: 3px 5px;\n",
              "    }\n",
              "    \n",
              "    .spark-nlp-display-others{\n",
              "        font-size: 14px;\n",
              "        line-height: 24px;\n",
              "        font-family: 'Montserrat', sans-serif !important;\n",
              "        \n",
              "        font-weight: 400;\n",
              "    }\n",
              "\n",
              "</style>\n",
              " <span class=\"spark-nlp-display-others\" style=\"background-color: white\">Google is being sued in the </span><span class=\"spark-nlp-display-others\" style=\"background-color: white\">US</span><span class=\"spark-nlp-display-others\" style=\"background-color: white\"> over accusations it deceived people about how to control location tracking.<br><br>The legal action refers to a widely reported </span><span class=\"spark-nlp-display-others\" style=\"background-color: white\">2018</span><span class=\"spark-nlp-display-others\" style=\"background-color: white\"> revelation turning off </span><span class=\"spark-nlp-display-others\" style=\"background-color: white\">one</span><span class=\"spark-nlp-display-others\" style=\"background-color: white\"> location-tracking setting in its apps was insufficient to fully disable the feature.<br><br>It accuses </span><span class=\"spark-nlp-display-others\" style=\"background-color: white\">Google</span><span class=\"spark-nlp-display-others\" style=\"background-color: white\"> of using so-called dark patterns, marketing techniques that deliberately confuse.<br><br></span><span class=\"spark-nlp-display-entity-wrapper\" style=\"background-color: #2C2B63\"><span class=\"spark-nlp-display-entity-name\">Google </span><span class=\"spark-nlp-display-entity-type\">ORG</span></span><span class=\"spark-nlp-display-others\" style=\"background-color: white\"> said the claims were inaccurate and outdated.<br><br>'Unfair practices'<br>The legal action was filed in </span><span class=\"spark-nlp-display-others\" style=\"background-color: white\">the District of Columbia</span><span class=\"spark-nlp-display-others\" style=\"background-color: white\">. Similar ones were also filed in </span><span class=\"spark-nlp-display-others\" style=\"background-color: white\">Texas</span><span class=\"spark-nlp-display-others\" style=\"background-color: white\">, </span><span class=\"spark-nlp-display-others\" style=\"background-color: white\">Indiana</span><span class=\"spark-nlp-display-others\" style=\"background-color: white\"> and </span><span class=\"spark-nlp-display-others\" style=\"background-color: white\">Washington</span><span class=\"spark-nlp-display-others\" style=\"background-color: white\"> state.<br><br>It refers to an </span><span class=\"spark-nlp-display-entity-wrapper\" style=\"background-color: #2C2B63\"><span class=\"spark-nlp-display-entity-name\">Associated Press </span><span class=\"spark-nlp-display-entity-type\">ORG</span></span><span class=\"spark-nlp-display-others\" style=\"background-color: white\"> revelation turning off </span><span class=\"spark-nlp-display-entity-wrapper\" style=\"background-color: #2C2B63\"><span class=\"spark-nlp-display-entity-name\">Location History </span><span class=\"spark-nlp-display-entity-type\">ORG</span></span><span class=\"spark-nlp-display-others\" style=\"background-color: white\"> when using Google Maps or Search was insufficient - as a separate setting, Web and App Activity, continued to log location and other personal data.<br><br>The study, with researchers at </span><span class=\"spark-nlp-display-entity-wrapper\" style=\"background-color: #2C2B63\"><span class=\"spark-nlp-display-entity-name\">Princeton University </span><span class=\"spark-nlp-display-entity-type\">ORG</span></span><span class=\"spark-nlp-display-others\" style=\"background-color: white\">, found up to </span><span class=\"spark-nlp-display-others\" style=\"background-color: white\">two billion</span><span class=\"spark-nlp-display-others\" style=\"background-color: white\"> </span><span class=\"spark-nlp-display-others\" style=\"background-color: white\">Android</span><span class=\"spark-nlp-display-others\" style=\"background-color: white\"> and </span><span class=\"spark-nlp-display-entity-wrapper\" style=\"background-color: #2C2B63\"><span class=\"spark-nlp-display-entity-name\">Apple </span><span class=\"spark-nlp-display-entity-type\">ORG</span></span><span class=\"spark-nlp-display-others\" style=\"background-color: white\"> devices could be affected.<br><br>\"</span><span class=\"spark-nlp-display-entity-wrapper\" style=\"background-color: #2C2B63\"><span class=\"spark-nlp-display-entity-name\">Google </span><span class=\"spark-nlp-display-entity-type\">ORG</span></span><span class=\"spark-nlp-display-others\" style=\"background-color: white\"> has relied on, and continues to rely on, deceptive and unfair practices that make it difficult for users to decline location tracking or to evaluate the data collection and processing to which they are purportedly consenting,\" the legal action alleges.<br><br>'Robust controls'<br>Google told </span><span class=\"spark-nlp-display-entity-wrapper\" style=\"background-color: #2C2B63\"><span class=\"spark-nlp-display-entity-name\">BBC News </span><span class=\"spark-nlp-display-entity-type\">ORG</span></span><span class=\"spark-nlp-display-others\" style=\"background-color: white\"> the case was based \"on inaccurate claims and outdated assertions about our settings\".<br><br>A representative added: \"We have always built privacy features into our products and provided robust controls for location data.<br><br>\"We will vigorously defend ourselves and set the record straight.\"<br><br>Visual misdirection<br>The legal action claims Google's policies contained other \"misleading, ambiguous and incomplete descriptions... but guarantee that consumers will not understand when their location is collected and retained by Google or for what purposes\".<br><br>It refers to dark patterns, design choices that alter users' decision-making for the designer's benefit - such as, complicated navigation menus, visual misdirection, confusing wording and repeated nudging towards a particular outcome.<br><br>Data regulators are increasingly focusing on these practices.<br><br>Google faces a raft of other legal actions in the </span><span class=\"spark-nlp-display-others\" style=\"background-color: white\">US</span><span class=\"spark-nlp-display-others\" style=\"background-color: white\">, including:<br><br>In </span><span class=\"spark-nlp-display-others\" style=\"background-color: white\">May 2020</span><span class=\"spark-nlp-display-others\" style=\"background-color: white\">, </span><span class=\"spark-nlp-display-others\" style=\"background-color: white\">Arizona</span><span class=\"spark-nlp-display-others\" style=\"background-color: white\"> filed a legal action over the same issue<br>In </span><span class=\"spark-nlp-display-others\" style=\"background-color: white\">December 2020</span><span class=\"spark-nlp-display-others\" style=\"background-color: white\">, multiple </span><span class=\"spark-nlp-display-others\" style=\"background-color: white\">US</span><span class=\"spark-nlp-display-others\" style=\"background-color: white\"> states sued over the price and process of advertising auctions<br>In </span><span class=\"spark-nlp-display-others\" style=\"background-color: white\">October 2020</span><span class=\"spark-nlp-display-others\" style=\"background-color: white\">, the </span><span class=\"spark-nlp-display-others\" style=\"background-color: white\">US</span><span class=\"spark-nlp-display-others\" style=\"background-color: white\"> </span><span class=\"spark-nlp-display-entity-wrapper\" style=\"background-color: #2C2B63\"><span class=\"spark-nlp-display-entity-name\">Justice Department </span><span class=\"spark-nlp-display-entity-type\">ORG</span></span><span class=\"spark-nlp-display-others\" style=\"background-color: white\"> alleged </span><span class=\"spark-nlp-display-entity-wrapper\" style=\"background-color: #2C2B63\"><span class=\"spark-nlp-display-entity-name\">Google </span><span class=\"spark-nlp-display-entity-type\">ORG</span></span><span class=\"spark-nlp-display-others\" style=\"background-color: white\"> had a monopoly over search and search advertising</span></div>"
            ],
            "text/plain": [
              "<IPython.core.display.HTML object>"
            ]
          },
          "metadata": {}
        }
      ]
    },
    {
      "cell_type": "markdown",
      "source": [
        "# Classify Article using analyze_sentimentdl_glove_imdb pipeline"
      ],
      "metadata": {
        "id": "HoTrh-sEUeRf"
      }
    },
    {
      "cell_type": "code",
      "source": [
        "identifier = SentimentIdentification(MODEL_NAME = \"analyze_sentimentdl_glove_imdb\")\n",
        "\n",
        "# Predict by headline\n",
        "headline = article[0]\n",
        "identifier.predict(headline)\n",
        "\n",
        "# Predict by body\n",
        "body = article[1]\n",
        "identifier.predict(body)"
      ],
      "metadata": {
        "colab": {
          "base_uri": "https://localhost:8080/"
        },
        "id": "RMwzvEYnPKEQ",
        "outputId": "d3a60842-a642-4c56-c1f8-99577e424cd4"
      },
      "execution_count": 63,
      "outputs": [
        {
          "output_type": "stream",
          "name": "stdout",
          "text": [
            "analyze_sentimentdl_glove_imdb download started this may take some time.\n",
            "Approx size to download 155.3 MB\n",
            "[OK!]\n",
            "['neg'] [\"Google sued in US over 'deceptive' location tracking\"]\n",
            "['neg'] ['Google is being sued in the US over accusations it deceived people about how to control location tracking.\\n\\nThe legal action refers to a widely reported 2018 revelation turning off one location-tracking setting in its apps was insufficient to fully disable the feature.\\n\\nIt accuses Google of using so-called dark patterns, marketing techniques that deliberately confuse.\\n\\nGoogle said the claims were inaccurate and outdated.\\n\\n\\'Unfair practices\\'\\nThe legal action was filed in the District of Columbia. Similar ones were also filed in Texas, Indiana and Washington state.\\n\\nIt refers to an Associated Press revelation turning off Location History when using Google Maps or Search was insufficient - as a separate setting, Web and App Activity, continued to log location and other personal data.\\n\\nThe study, with researchers at Princeton University, found up to two billion Android and Apple devices could be affected.\\n\\n\"Google has relied on, and continues to rely on, deceptive and unfair practices that make it difficult for users to decline location tracking or to evaluate the data collection and processing to which they are purportedly consenting,\" the legal action alleges.\\n\\n\\'Robust controls\\'\\nGoogle told BBC News the case was based \"on inaccurate claims and outdated assertions about our settings\".\\n\\nA representative added: \"We have always built privacy features into our products and provided robust controls for location data.\\n\\n\"We will vigorously defend ourselves and set the record straight.\"\\n\\nVisual misdirection\\nThe legal action claims Google\\'s policies contained other \"misleading, ambiguous and incomplete descriptions... but guarantee that consumers will not understand when their location is collected and retained by Google or for what purposes\".\\n\\nIt refers to dark patterns, design choices that alter users\\' decision-making for the designer\\'s benefit - such as, complicated navigation menus, visual misdirection, confusing wording and repeated nudging towards a particular outcome.\\n\\nData regulators are increasingly focusing on these practices.\\n\\nGoogle faces a raft of other legal actions in the US, including:\\n\\nIn May 2020, Arizona filed a legal action over the same issue\\nIn December 2020, multiple US states sued over the price and process of advertising auctions\\nIn October 2020, the US Justice Department alleged Google had a monopoly over search and search advertising']\n"
          ]
        }
      ]
    }
  ],
  "metadata": {
    "accelerator": "GPU",
    "colab": {
      "collapsed_sections": [],
      "name": "CLASS FOR SENTIMENT DETECTION USING SNOW LABS PIPELINES.ipynb",
      "provenance": [],
      "include_colab_link": true
    },
    "interpreter": {
      "hash": "45150093197569bb3a58481dcd32cd1adb45462fa3448719e8ac38ada6166aca"
    },
    "kernelspec": {
      "display_name": "Python 3.6.10 64-bit ('tensorflow2_p36': conda)",
      "name": "python3"
    },
    "language_info": {
      "codemirror_mode": {
        "name": "ipython",
        "version": 3
      },
      "file_extension": ".py",
      "mimetype": "text/x-python",
      "name": "python",
      "nbconvert_exporter": "python",
      "pygments_lexer": "ipython3",
      "version": "3.6.10"
    }
  },
  "nbformat": 4,
  "nbformat_minor": 0
}